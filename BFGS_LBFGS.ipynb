{
 "cells": [
  {
   "cell_type": "markdown",
   "metadata": {},
   "source": [
    "## BFGS Algorithm"
   ]
  },
  {
   "cell_type": "code",
   "execution_count": 1,
   "metadata": {},
   "outputs": [],
   "source": [
    "function rosenbrock_BFGS( Θ, ITERS )\n",
    "    \n",
    "    DIM = length(Θ)\n",
    "    Q = Matrix(1.0I, DIM, DIM)\n",
    "    arguments = zeros(DIM, ITERS)\n",
    "    values = []\n",
    "    \n",
    "    for i in 1:ITERS\n",
    "        \n",
    "        # History\n",
    "        arguments[1,i] = round( Θ[1], digits=8 )\n",
    "        arguments[2,i] = round( Θ[2], digits=8 )\n",
    "        push!(values, round(rosenbrock(Θ), digits=8))\n",
    "        \n",
    "        # Finding new weights and update\n",
    "        Θ, Q = BFGS( Θ, Q )\n",
    "    \n",
    "    end\n",
    "    return arguments, values, Q\n",
    "end;"
   ]
  },
  {
   "cell_type": "code",
   "execution_count": 2,
   "metadata": {},
   "outputs": [],
   "source": [
    "function BFGS( Θ, Q ) # author: Bartosz Chaber\n",
    "    \n",
    "    f = rosenbrock\n",
    "    ∇f = rosenbrock_gradient\n",
    "    g = ∇f(Θ)\n",
    "    \n",
    "    # Looking for the best step size\n",
    "    d  = -Q*g    # Direction\n",
    "    ϕ  = α -> f(Θ + α*d)\n",
    "    ϕ′ = α -> ∇f(Θ + α*d) ⋅ d\n",
    "    α = line_search( ϕ, ϕ′, d )  #  α is not a hyperparameter!\n",
    "    \n",
    "    # New weights\n",
    "    Θ′ = Θ + α * d\n",
    "    \n",
    "    # Hessian Approximation Update\n",
    "    g′ = ∇f( Θ′ )\n",
    "    δ = Θ′ - Θ\n",
    "    γ = g′ - g    \n",
    "    Q′ = Q - (δ*γ'*Q + Q*γ*δ') / (δ'*γ) +\n",
    "                 (1.0 + (γ'*Q*γ) / (δ'*γ)) *\n",
    "                          (δ*δ') / (δ'*γ)\n",
    "    \n",
    "    return Θ′, Q′\n",
    "\n",
    "end;"
   ]
  },
  {
   "cell_type": "code",
   "execution_count": 3,
   "metadata": {},
   "outputs": [],
   "source": [
    "function line_search( ϕ, ϕ′, d ) # author: Bartosz Chaber\n",
    "    a, b = bracket_minimum(ϕ)\n",
    "    x, y = golden_section_search(ϕ, a, b)\n",
    "    x/2 + y/2\n",
    "end;"
   ]
  },
  {
   "cell_type": "code",
   "execution_count": 4,
   "metadata": {},
   "outputs": [],
   "source": [
    "function bracket_minimum(f; x=0, s=1e-2, k=2.0) # author: the book\n",
    "    a, ya = x, f(x)\n",
    "    b, yb = a + s, f(a + s)\n",
    "    if yb > ya\n",
    "        a, b = b, a\n",
    "        ya, yb = yb, ya\n",
    "        s = -s\n",
    "    end\n",
    "    while true\n",
    "        c, yc = b + s, f(b + s)\n",
    "        if yc > yb\n",
    "            return a < c ? (a, c) : (c, a)\n",
    "        end\n",
    "        a, ya, b, yb = b, yb, c, yc\n",
    "        s *= k\n",
    "    end\n",
    "end;"
   ]
  },
  {
   "cell_type": "code",
   "execution_count": 5,
   "metadata": {},
   "outputs": [],
   "source": [
    "import Base.MathConstants: φ\n",
    "\n",
    "function golden_section_search( f, a, b; n=50 ) # author: the book\n",
    "    ρ = φ-1\n",
    "    d = ρ * b + (1 - ρ)*a\n",
    "    yd = f(d)\n",
    "    for i = 1 : n-1\n",
    "        c = ρ*a + (1 - ρ)*b\n",
    "        yc = f(c)\n",
    "        if yc < yd\n",
    "            b, d, yd = d, c, yc\n",
    "        else\n",
    "            a, b = b, c\n",
    "        end\n",
    "    end\n",
    "    return a < b ? (a, b) : (b, a)\n",
    "end;"
   ]
  },
  {
   "cell_type": "markdown",
   "metadata": {},
   "source": [
    "## L-BFGS Algorithm"
   ]
  },
  {
   "cell_type": "code",
   "execution_count": 6,
   "metadata": {},
   "outputs": [
    {
     "data": {
      "text/plain": [
       "rosenbrock_LBFGS (generic function with 1 method)"
      ]
     },
     "execution_count": 6,
     "metadata": {},
     "output_type": "execute_result"
    }
   ],
   "source": [
    "function rosenbrock_LBFGS( Θ, ITERS, m )\n",
    "    DIM = length(Θ)\n",
    "    δs, γs, qs = [], [], []\n",
    "    arguments = zeros(DIM, ITERS)\n",
    "    values = []\n",
    "    \n",
    "    for i in 1:ITERS\n",
    "        # History\n",
    "        arguments[1,i] = round( Θ[1], digits=8 )\n",
    "        arguments[2,i] = round( Θ[2], digits=8 )\n",
    "        push!(values, round(rosenbrock(Θ), digits=8))\n",
    "        \n",
    "        # Finding new weights and update\n",
    "        Θ, δs, γs, qs = LBFGS(Θ, m, δs, γs, qs)    \n",
    "    end\n",
    "    return arguments, values, δs, γs, qs\n",
    "end;"
   ]
  },
  {
   "cell_type": "code",
   "execution_count": 7,
   "metadata": {},
   "outputs": [
    {
     "data": {
      "text/plain": [
       "LBFGS (generic function with 1 method)"
      ]
     },
     "execution_count": 7,
     "metadata": {},
     "output_type": "execute_result"
    }
   ],
   "source": [
    "function LBFGS(θ, m, δs, γs, qs) # author: Bartosz Chaber\n",
    "    f = rosenbrock\n",
    "    ∇f = rosenbrock_gradient\n",
    "\n",
    "    n, g = length(δs), ∇f(θ)\n",
    "    d = -g\n",
    "    if n > 0\n",
    "        q=g\n",
    "        for i in n:-1:1\n",
    "            qs[i] = copy(q)\n",
    "            q -= (δs[i]⋅q) / (γs[i]⋅δs[i]) * γs[i]\n",
    "        end\n",
    "        z = (γs[n] .* δs[n] .* q) / (γs[n]⋅γs[n])\n",
    "        for i in 1:+1:n\n",
    "            z += δs[i]*(δs[i]⋅qs[i]-γs[i]⋅z)/(γs[i]⋅δs[i])\n",
    "        end\n",
    "        d = -z;\n",
    "    end\n",
    "    φ =α-> f(θ+α*d); φ′=α->∇f(θ+α*d)⋅d\n",
    "    α = line_search(φ, φ′, d)\n",
    "    θ′ = θ + α*d; g′ = ∇f(θ′)\n",
    "    δ =θ′-θ;γ =g′-g\n",
    "    push!(δs, δ); push!(γs, γ); push!(qs, zero(θ))\n",
    "    while length(δs) > m\n",
    "        popfirst!(δs); popfirst!(γs); popfirst!(qs)\n",
    "    end\n",
    "    return θ′, δs, γs, qs\n",
    "end;"
   ]
  }
 ],
 "metadata": {
  "kernelspec": {
   "display_name": "Julia 1.5.3",
   "language": "julia",
   "name": "julia-1.5"
  },
  "language_info": {
   "file_extension": ".jl",
   "mimetype": "application/julia",
   "name": "julia",
   "version": "1.5.3"
  }
 },
 "nbformat": 4,
 "nbformat_minor": 2
}
