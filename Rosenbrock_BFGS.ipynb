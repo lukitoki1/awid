{
 "cells": [
  {
   "cell_type": "markdown",
   "metadata": {},
   "source": [
    "# Optimizing Rosenbrock's function using vanilla BFGS algorithm"
   ]
  },
  {
   "cell_type": "code",
   "execution_count": 2,
   "metadata": {},
   "outputs": [],
   "source": [
    "using ForwardDiff\n",
    "using LinearAlgebra"
   ]
  },
  {
   "cell_type": "markdown",
   "metadata": {},
   "source": [
    "### Rosenbrock's Function"
   ]
  },
  {
   "cell_type": "code",
   "execution_count": 3,
   "metadata": {},
   "outputs": [],
   "source": [
    "rosenbrock(Θ) = sum([100*(Θ[i+1]-Θ[i]^2)^2 + (1-Θ[i])^2 for i in 1:(length(Θ)-1)]);"
   ]
  },
  {
   "cell_type": "code",
   "execution_count": 4,
   "metadata": {},
   "outputs": [],
   "source": [
    "rosenbrock_gradient(Θ) = ForwardDiff.gradient(rosenbrock, Θ);"
   ]
  },
  {
   "cell_type": "markdown",
   "metadata": {},
   "source": [
    "### BFGS Algorithm"
   ]
  },
  {
   "cell_type": "code",
   "execution_count": 5,
   "metadata": {},
   "outputs": [],
   "source": [
    "function rosenbrock_BFGS( Θ, ITERS )\n",
    "    \n",
    "    DIM = length(Θ)\n",
    "    Q = Matrix(1.0I, DIM, DIM)\n",
    "    arguments = zeros(DIM, ITERS)\n",
    "    values = []\n",
    "    \n",
    "    for i in 1:ITERS\n",
    "        \n",
    "        # History\n",
    "        arguments[1,i] = round( Θ[1], digits=8 )\n",
    "        arguments[2,i] = round( Θ[2], digits=8 )\n",
    "        push!(values, round(rosenbrock(Θ), digits=8))\n",
    "        \n",
    "        # Finding new weights and update\n",
    "        Θ, Q = BFGS( Θ, Q )\n",
    "    \n",
    "    end\n",
    "    return arguments, values, Q\n",
    "end;"
   ]
  },
  {
   "cell_type": "code",
   "execution_count": 6,
   "metadata": {},
   "outputs": [],
   "source": [
    "function BFGS( Θ, Q ) # author: Bartosz Chaber\n",
    "    \n",
    "    f = rosenbrock\n",
    "    ∇f = rosenbrock_gradient\n",
    "    g = ∇f(Θ)\n",
    "    \n",
    "    # Looking for the best step size\n",
    "    d  = -Q*g    # Direction\n",
    "    ϕ  = α -> f(Θ + α*d)\n",
    "    ϕ′ = α -> ∇f(Θ + α*d) ⋅ d\n",
    "    α = line_search( ϕ, ϕ′, d )  #  α is not a hyperparameter!\n",
    "    \n",
    "    # New weights\n",
    "    Θ′ = Θ + α * d\n",
    "    \n",
    "    # Hessian Approximation Update\n",
    "    g′ = ∇f( Θ′ )\n",
    "    δ = Θ′ - Θ\n",
    "    γ = g′ - g    \n",
    "    Q′ = Q - (δ*γ'*Q + Q*γ*δ') / (δ'*γ) +\n",
    "                 (1.0 + (γ'*Q*γ) / (δ'*γ)) *\n",
    "                          (δ*δ') / (δ'*γ)\n",
    "    \n",
    "    return Θ′, Q′\n",
    "\n",
    "end;"
   ]
  },
  {
   "cell_type": "code",
   "execution_count": 7,
   "metadata": {},
   "outputs": [],
   "source": [
    "function line_search( ϕ, ϕ′, d ) # author: Bartosz Chaber\n",
    "    a, b = bracket_minimum(ϕ)\n",
    "    x, y = golden_section_search(ϕ, a, b)\n",
    "    x/2 + y/2\n",
    "end;"
   ]
  },
  {
   "cell_type": "code",
   "execution_count": 8,
   "metadata": {},
   "outputs": [],
   "source": [
    "function bracket_minimum(f; x=0, s=1e-2, k=2.0) # author: the book\n",
    "    a, ya = x, f(x)\n",
    "    b, yb = a + s, f(a + s)\n",
    "    if yb > ya\n",
    "        a, b = b, a\n",
    "        ya, yb = yb, ya\n",
    "        s = -s\n",
    "    end\n",
    "    while true\n",
    "        c, yc = b + s, f(b + s)\n",
    "        if yc > yb\n",
    "            return a < c ? (a, c) : (c, a)\n",
    "        end\n",
    "        a, ya, b, yb = b, yb, c, yc\n",
    "        s *= k\n",
    "    end\n",
    "end;"
   ]
  },
  {
   "cell_type": "code",
   "execution_count": 9,
   "metadata": {},
   "outputs": [],
   "source": [
    "import Base.MathConstants: φ\n",
    "\n",
    "function golden_section_search( f, a, b; n=50 ) # author: the book\n",
    "    ρ = φ-1\n",
    "    d = ρ * b + (1 - ρ)*a\n",
    "    yd = f(d)\n",
    "    for i = 1 : n-1\n",
    "        c = ρ*a + (1 - ρ)*b\n",
    "        yc = f(c)\n",
    "        if yc < yd\n",
    "            b, d, yd = d, c, yc\n",
    "        else\n",
    "            a, b = b, c\n",
    "        end\n",
    "    end\n",
    "    return a < b ? (a, b) : (b, a)\n",
    "end;"
   ]
  },
  {
   "cell_type": "markdown",
   "metadata": {},
   "source": [
    "### BFGS Training"
   ]
  },
  {
   "cell_type": "code",
   "execution_count": 10,
   "metadata": {},
   "outputs": [],
   "source": [
    "ITERS = 10;\n",
    "Θ = [rand(), rand()];"
   ]
  },
  {
   "cell_type": "code",
   "execution_count": 11,
   "metadata": {},
   "outputs": [],
   "source": [
    "arguments, values, Q = rosenbrock_BFGS( Θ, ITERS );"
   ]
  },
  {
   "cell_type": "code",
   "execution_count": 12,
   "metadata": {},
   "outputs": [
    {
     "name": "stdout",
     "output_type": "stream",
     "text": [
      "Any[0.6201468, 0.20158248, 0.1527435, 0.0892933, 0.05426181, 0.02812169, 0.01166783, 0.00460196, 0.00097647, 5.826e-5]\n"
     ]
    },
    {
     "data": {
      "text/plain": [
       "2×10 Array{Float64,2}:\n",
       " 0.518758  0.551581  0.64024   0.758301  …  0.932179  0.978145  0.993574\n",
       " 0.331444  0.301999  0.394638  0.557449     0.86911   0.954534  0.987601"
      ]
     },
     "execution_count": 12,
     "metadata": {},
     "output_type": "execute_result"
    }
   ],
   "source": [
    "println(values)\n",
    "arguments"
   ]
  },
  {
   "cell_type": "markdown",
   "metadata": {},
   "source": [
    "### Visualization"
   ]
  },
  {
   "cell_type": "code",
   "execution_count": null,
   "metadata": {},
   "outputs": [
    {
     "name": "stderr",
     "output_type": "stream",
     "text": [
      "┌ Info: Precompiling Gadfly [c91e804a-d5a3-530f-b6f0-dfbca275c004]\n",
      "└ @ Base loading.jl:1278\n"
     ]
    }
   ],
   "source": [
    "using NBInclude\n",
    "@nbinclude(\"Visualization.ipynb\");"
   ]
  },
  {
   "cell_type": "code",
   "execution_count": null,
   "metadata": {},
   "outputs": [],
   "source": [
    "y = [round(v, digits=8) for v in values]\n",
    "visualize_training_process( length(y), y,\n",
    "    \"BFGS training\", \"Iteration\", \"Rosenbrock's function value\" )"
   ]
  },
  {
   "cell_type": "code",
   "execution_count": null,
   "metadata": {},
   "outputs": [],
   "source": [
    "SPAN = 100; LEFT = 0; RIGHT = 1.5\n",
    "ax = LinRange( LEFT, RIGHT, SPAN );\n",
    "\n",
    "levels = [LinRange(0, 100, 20)...];"
   ]
  },
  {
   "cell_type": "code",
   "execution_count": null,
   "metadata": {},
   "outputs": [],
   "source": [
    "contour_cost(\n",
    "    ax, ax,\n",
    "    (x, y) -> rosenbrock( [x, y] ), levels,\n",
    "    arguments, 1,\n",
    "    \"Optimization Rosenbrock's function with two arguments (BFGS)\",\n",
    "    \"Θ1\", \"Θ2\",\n",
    ")"
   ]
  },
  {
   "cell_type": "code",
   "execution_count": null,
   "metadata": {},
   "outputs": [],
   "source": [
    "arguments[:, end] # final (best) weights"
   ]
  }
 ],
 "metadata": {
  "kernelspec": {
   "display_name": "Julia 1.5.3",
   "language": "julia",
   "name": "julia-1.5"
  },
  "language_info": {
   "file_extension": ".jl",
   "mimetype": "application/julia",
   "name": "julia",
   "version": "1.5.3"
  }
 },
 "nbformat": 4,
 "nbformat_minor": 2
}
