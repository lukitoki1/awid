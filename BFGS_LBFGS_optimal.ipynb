{
 "cells": [
  {
   "cell_type": "markdown",
   "metadata": {},
   "source": [
    "## BFGS Algorithm"
   ]
  },
  {
   "cell_type": "code",
   "execution_count": 1,
   "metadata": {},
   "outputs": [],
   "source": [
    "# author: Bartosz Chaber\n",
    "function BFGS( f, ∇f, Θ::Array{Float64,1}, Q::Array{Float64,2} )\n",
    "\n",
    "    g::Vector{Float64} = ∇f(Θ)\n",
    "    \n",
    "    # Looking for the best step size\n",
    "    d::Vector{Float64}  = -Q*g    # Direction\n",
    "    ϕ  = α -> f(Θ + α*d)\n",
    "    ϕ′ = α -> ∇f(Θ + α*d) ⋅ d\n",
    "    \n",
    "    # @show typeof(ϕ), typeof(ϕ′), typeof(d)\n",
    "   \n",
    "    α::Float64 = line_search( ϕ, ϕ′, d )  #  α is not a hyperparameter!\n",
    "    \n",
    "    # New weights\n",
    "    Θ′ = Θ + α * d\n",
    "    \n",
    "    # Hessian Approximation Update\n",
    "    g′ = ∇f( Θ′ )\n",
    "    δ = Θ′ - Θ\n",
    "    γ = g′ - g    \n",
    "    Q′ = Q - (δ*γ'*Q + Q*γ*δ') / (δ'*γ) +\n",
    "                 (1.0 + (γ'*Q*γ) / (δ'*γ)) *\n",
    "                          (δ*δ') / (δ'*γ)\n",
    "    # Q′ = round.(Q′, digits=6)\n",
    "    return Θ′, Q′\n",
    "\n",
    "end;"
   ]
  },
  {
   "cell_type": "code",
   "execution_count": 2,
   "metadata": {},
   "outputs": [],
   "source": [
    "# author: Bartosz Chaber\n",
    "function line_search( ϕ, ϕ′, d::Array{Float64,1} )::Float64\n",
    "    a, b = bracket_minimum(ϕ)\n",
    "#     @show typeof(a), typeof(b)\n",
    "    x, y = golden_section_search(ϕ, a, b)\n",
    "#     @show typeof(x), typeof(y)\n",
    "    x/2 + y/2\n",
    "    \n",
    "end;"
   ]
  },
  {
   "cell_type": "code",
   "execution_count": 3,
   "metadata": {},
   "outputs": [],
   "source": [
    "# author: the book\n",
    "function bracket_minimum(f; x=0, s=1e-2, k=2.0)::Tuple{Float64,Float64}\n",
    "    a, ya = x, f(x)\n",
    "    b, yb = a + s, f(a + s)\n",
    "    if yb > ya\n",
    "        a, b = b, a\n",
    "        ya, yb = yb, ya\n",
    "        s = -s\n",
    "    end\n",
    "    while true\n",
    "        c, yc = b + s, f(b + s)\n",
    "        if yc > yb\n",
    "            return a < c ? (a, c) : (c, a)\n",
    "        end\n",
    "        a, ya, b, yb = b, yb, c, yc\n",
    "        s *= k\n",
    "    end\n",
    "end;"
   ]
  },
  {
   "cell_type": "code",
   "execution_count": 4,
   "metadata": {},
   "outputs": [],
   "source": [
    "import Base.MathConstants: φ\n",
    "# author: the book\n",
    "function golden_section_search( f, a::Float64, b::Float64; n=50 )::Tuple{Float64,Float64}\n",
    "    ρ = φ-1\n",
    "    d = ρ * b + (1 - ρ)*a\n",
    "    yd = f(d)\n",
    "    for i = 1 : n-1\n",
    "        c = ρ*a + (1 - ρ)*b\n",
    "        yc = f(c)\n",
    "        if yc < yd\n",
    "            b, d, yd = d, c, yc\n",
    "        else\n",
    "            a, b = b, c\n",
    "        end\n",
    "    end\n",
    "    return a < b ? (a, b) : (b, a)\n",
    "end;"
   ]
  },
  {
   "cell_type": "markdown",
   "metadata": {},
   "source": [
    "## L-BFGS Algorithm"
   ]
  },
  {
   "cell_type": "code",
   "execution_count": 5,
   "metadata": {},
   "outputs": [],
   "source": [
    "function LBFGS(f, ∇f, θ::Array{Float64,1}, m::Int64,\n",
    "        δs::Array{Array{Float64, 1}, 1},\n",
    "        γs::Array{Array{Float64, 1}, 1},\n",
    "        qs::Array{Array{Float64, 1}, 1}) # author: Bartosz Chaber\n",
    "\n",
    "    n, g::Vector{Float64} = length(δs), ∇f(θ)\n",
    "    d::Vector{Float64} = -g\n",
    "    if n > 0\n",
    "        q=g\n",
    "        for i in n:-1:1\n",
    "            qs[i] = copy(q)\n",
    "            q -= (δs[i]⋅q) / (γs[i]⋅δs[i]) * γs[i]\n",
    "        end\n",
    "        z = (γs[n] .* δs[n] .* q) / (γs[n]⋅γs[n])\n",
    "        for i in 1:+1:n\n",
    "            z += δs[i]*(δs[i]⋅qs[i]-γs[i]⋅z)/(γs[i]⋅δs[i])\n",
    "        end\n",
    "        d = -z;\n",
    "    end\n",
    "    φ =α-> f(θ+α*d); φ′=α->∇f(θ+α*d)⋅d\n",
    "    α::Float64 = line_search(φ, φ′, d)\n",
    "    θ′ = θ + α*d; g′ = ∇f(θ′)\n",
    "    δ =θ′-θ;γ =g′-g\n",
    "    push!(δs, δ); push!(γs, γ); push!(qs, zero(θ))\n",
    "    while length(δs) > m\n",
    "        popfirst!(δs); popfirst!(γs); popfirst!(qs)\n",
    "    end\n",
    "    return θ′, δs, γs, qs\n",
    "end;"
   ]
  }
 ],
 "metadata": {
  "kernelspec": {
   "display_name": "Julia 1.5.3",
   "language": "julia",
   "name": "julia-1.5"
  },
  "language_info": {
   "file_extension": ".jl",
   "mimetype": "application/julia",
   "name": "julia",
   "version": "1.5.3"
  }
 },
 "nbformat": 4,
 "nbformat_minor": 2
}
