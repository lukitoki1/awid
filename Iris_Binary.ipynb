{
 "cells": [
  {
   "cell_type": "code",
   "execution_count": 1,
   "metadata": {},
   "outputs": [],
   "source": [
    "using RDatasets, DataFrames, Statistics"
   ]
  },
  {
   "cell_type": "code",
   "execution_count": 2,
   "metadata": {},
   "outputs": [],
   "source": [
    "function normalize( D )\n",
    "    min = minimum(D)\n",
    "    max = maximum(D)\n",
    "    diff = max-min\n",
    "    map( (n) -> (n-min)/diff, D )\n",
    "end;"
   ]
  },
  {
   "cell_type": "code",
   "execution_count": 3,
   "metadata": {},
   "outputs": [],
   "source": [
    "# 1st and 2nd feature of classes without virginica\n",
    "function get_binary_iris()\n",
    "    df = dataset(\"datasets\", \"iris\")\n",
    "    df = df[ df[:, :Species] .!= \"virginica\", : ]\n",
    "    X = zeros(100, 2);\n",
    "    X[:,1] = normalize(df[:,1]);\n",
    "    X[:,2] = normalize(df[:,2]);\n",
    "    Y = (df[:, 5] .== \"setosa\");\n",
    "    return X, Y\n",
    "end;"
   ]
  }
 ],
 "metadata": {
  "kernelspec": {
   "display_name": "Julia 1.5.3",
   "language": "julia",
   "name": "julia-1.5"
  },
  "language_info": {
   "file_extension": ".jl",
   "mimetype": "application/julia",
   "name": "julia",
   "version": "1.5.3"
  }
 },
 "nbformat": 4,
 "nbformat_minor": 2
}
