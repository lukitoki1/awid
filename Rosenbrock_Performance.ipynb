{
 "cells": [
  {
   "cell_type": "markdown",
   "metadata": {
    "scrolled": true
   },
   "source": [
    "# Preparation"
   ]
  },
  {
   "cell_type": "markdown",
   "metadata": {},
   "source": [
    "### Imports"
   ]
  },
  {
   "cell_type": "code",
   "execution_count": 212,
   "metadata": {},
   "outputs": [
    {
     "name": "stdout",
     "output_type": "stream",
     "text": [
      "[19.91477155, 0.06956248, 0.0669018, 0.03908957, 0.01534347, 0.00551095, 0.00269375, 0.0004362, 3.463e-5, 3.3e-7]\n",
      "[6.3274252, 0.22158139, 0.20125658, 0.1405162, 0.08145223, 0.04680074, 0.03311067, 0.01185387, 0.00446461, 0.00148593]\n",
      "function value in iteration 1 for x=[13.501753999316922, -190.87813479251096] is 1.3926151364185793e7\n",
      "function value in iteration 2 for x=[-2.0154209991730647e6, 74444.22103532378] is 1.6499208136288062e27\n",
      "function value in iteration 3 for x=[3.274592940223273e21, 8.123843459671509e14] is 1.1498184808922469e88\n",
      "function value in iteration 4 for x=[-1.4045330236543517e67, 2.1445917848320198e45] is 3.8915966377182745e270\n",
      "function value in iteration 5 for x=[1.108296230043211e204, 3.945426029071271e136] is Inf\n",
      "function value in iteration 5175 for x=[0.9968426609340175, 0.9936826322371464] is 9.98481353946191e-6\n",
      "function value in iteration 1 for x=[0.17071072711366356, 0.02906039695181256] is 0.6877213665188894\n",
      "function value in iteration 2 for x=[0.9866583747598555, 0.3077241847844053] is 44.32522234781965\n",
      "function value in iteration 3 for x=[0.9867578247503751, 0.9736909948157912] is 0.00017535520535156006\n",
      "function value in iteration 4 for x=[0.9999999738062333, 0.9998245931008496] is 3.0749204751526936e-6\n",
      "function value in iteration 1 for x=[2.0, 2.0, 0.0, 0.0] is 2403.0\n",
      "function value in iteration 2 for x=[-1600.0, -1200.0, 0.0, 0.0] is 7.009447403851203e15\n",
      "function value in iteration 3 for x=[1.639168001602e12, 6.93056241202e11, 0.0, 0.0] is 5.950592759290638e53\n",
      "function value in iteration 4 for x=[-1.7616936705912477e39, -1.3315743716473421e38, 0.0, 0.0] is 5.373886071432001e167\n",
      "function value in iteration 5 for x=[2.187012037085861e120, 9.444006446884544e116, 0.0, 0.0] is Inf\n",
      "function value in iteration 9893 for x=[0.9993129371624921, 0.9986237607279519, 0.0, 0.0] is 9.990977777189374e-6\n",
      "function value in iteration 1 for x=[0.0026118412502863578, 0.29387954166421154, 0.0, 0.0] is 22.00926096369975\n",
      "function value in iteration 2 for x=[-0.012227310534645802, -0.2682013294258783, 0.0, 0.0] is 21.612673450641807\n",
      "function value in iteration 3 for x=[0.008851386667326686, -0.05767562045423846, 0.0, 0.0] is 3.943445096681778\n",
      "function value in iteration 4 for x=[0.08801166996391761, 0.0028217281964022164, 0.0, 0.0] is 2.821963010435195\n",
      "function value in iteration 5 for x=[0.6382246075635436, 0.11482854825010852, 0.0, 0.0] is 10.449997727845705\n",
      "function value in iteration 6 for x=[0.6571034385681543, 0.4373944668959155, 0.0, 0.0] is 2.162137501979518\n",
      "function value in iteration 7 for x=[0.7121361307688965, 0.5014490703904612, 0.0, 0.0] is 0.9530571941397934\n",
      "function value in iteration 8 for x=[0.842493413923059, 0.6927375977390167, 0.0, 0.0] is 0.7461110370080177\n",
      "function value in iteration 9 for x=[0.8503174112716746, 0.7222485627366425, 0.0, 0.0] is 0.33448358341476264\n",
      "function value in iteration 10 for x=[0.9453593566720141, 0.8844384735260745, 0.0, 0.0] is 0.46410554606635684\n",
      "function value in iteration 11 for x=[0.9409699621761402, 0.8850499712299077, 0.0, 0.0] is 0.06415011912663181\n",
      "function value in iteration 12 for x=[0.9963421677936561, 0.9896342353636869, 0.0, 0.0] is 0.1336104724374101\n",
      "function value in iteration 13 for x=[0.9934749706475083, 0.986942735713508, 0.0, 0.0] is 0.0008944727939143241\n",
      "function value in iteration 14 for x=[0.9999886517906257, 0.9999351449453964, 0.0, 0.0] is 4.7178917562290296e-5\n",
      "function value in iteration 15 for x=[0.9999930580833725, 0.9999860816713088, 0.0, 0.0] is 1.0225899286414462e-9\n"
     ]
    }
   ],
   "source": [
    "using BenchmarkTools\n",
    "\n",
    "using NBInclude;\n",
    "@nbinclude(\"Rosenbrock_BFGS.ipynb\");\n",
    "@nbinclude(\"Rosenbrock_GD_Newton.ipynb\");"
   ]
  },
  {
   "cell_type": "code",
   "execution_count": 196,
   "metadata": {},
   "outputs": [
    {
     "data": {
      "text/plain": [
       "rosenbrock_performance (generic function with 2 methods)"
      ]
     },
     "execution_count": 196,
     "metadata": {},
     "output_type": "execute_result"
    }
   ],
   "source": [
    "function rosenbrock_performance(fun, samples, dimensions, max_iters, max_error=0)\n",
    "    timed_history = []\n",
    "    for j in 1:samples\n",
    "        timed = @timed fun(rand(dimensions), max_iters, max_error)\n",
    "        push!(timed_history, timed)\n",
    "    end\n",
    "    \n",
    "    mean_iters = sum(map(h->h.value[3], timed_history))/samples\n",
    "    mean_error = sum(map(h->last(h.value[2]), timed_history))/samples\n",
    "    mean_exec_time = sum(map(h->h.time, timed_history))/samples\n",
    "    mean_alloc_bytes = sum(map(h->h.bytes, timed_history))/samples\n",
    "    \n",
    "    return mean_iters, mean_error, mean_exec_time, mean_alloc_bytes\n",
    "end"
   ]
  },
  {
   "cell_type": "markdown",
   "metadata": {},
   "source": [
    "### Adapters"
   ]
  },
  {
   "cell_type": "code",
   "execution_count": 213,
   "metadata": {},
   "outputs": [
    {
     "data": {
      "text/plain": [
       "lbfgs (generic function with 1 method)"
      ]
     },
     "execution_count": 213,
     "metadata": {},
     "output_type": "execute_result"
    }
   ],
   "source": [
    "gd(x, max_iters, max_error) = rosenbrock_gradient_descent(x, rate, max_iters, max_error)\n",
    "lbfgs(x, max_iters, max_error) = rosenbrock_LBFGS(x, m, max_iters, max_error)"
   ]
  },
  {
   "cell_type": "markdown",
   "metadata": {},
   "source": [
    "# Mean performance of 100 runs for 2 dimens"
   ]
  },
  {
   "cell_type": "code",
   "execution_count": 223,
   "metadata": {},
   "outputs": [],
   "source": [
    "SAMPLES = 100;\n",
    "DIMENS = 2;\n",
    "ITERS = 10000;\n",
    "ERROR = 10e-6;\n",
    "\n",
    "rate = 0.001953125; #GradientDescent\n",
    "m = 4; #L-BFGS"
   ]
  },
  {
   "cell_type": "markdown",
   "metadata": {},
   "source": [
    "### Gradient Descent performance"
   ]
  },
  {
   "cell_type": "code",
   "execution_count": 215,
   "metadata": {},
   "outputs": [
    {
     "data": {
      "text/plain": [
       "(5373.44, 9.991714084738992e-6, 0.006011725880000001, 4.66000704e6)"
      ]
     },
     "execution_count": 215,
     "metadata": {},
     "output_type": "execute_result"
    }
   ],
   "source": [
    "rosenbrock_performance(gd, SAMPLES, DIMENS, ITERS, ERROR)"
   ]
  },
  {
   "cell_type": "markdown",
   "metadata": {},
   "source": [
    "### Newton's Method performance"
   ]
  },
  {
   "cell_type": "code",
   "execution_count": 216,
   "metadata": {},
   "outputs": [
    {
     "data": {
      "text/plain": [
       "(4.18, 1.1906558255356876e-6, 0.00026203402, 255100.96)"
      ]
     },
     "execution_count": 216,
     "metadata": {},
     "output_type": "execute_result"
    }
   ],
   "source": [
    "rosenbrock_performance(rosenbrock_newton, SAMPLES, DIMENS, ITERS, ERROR)"
   ]
  },
  {
   "cell_type": "markdown",
   "metadata": {},
   "source": [
    "### BFGS performance"
   ]
  },
  {
   "cell_type": "code",
   "execution_count": 217,
   "metadata": {},
   "outputs": [
    {
     "data": {
      "text/plain": [
       "(10.11, 2.4392e-6, 0.00093020877, 495672.58)"
      ]
     },
     "execution_count": 217,
     "metadata": {},
     "output_type": "execute_result"
    }
   ],
   "source": [
    "rosenbrock_performance(rosenbrock_BFGS, SAMPLES, DIMENS, ITERS, ERROR)"
   ]
  },
  {
   "cell_type": "markdown",
   "metadata": {},
   "source": [
    "### L-BFGS performance"
   ]
  },
  {
   "cell_type": "code",
   "execution_count": 224,
   "metadata": {},
   "outputs": [
    {
     "data": {
      "text/plain": [
       "(10.51, 2.5800999999999997e-6, 0.0006146762, 490205.44)"
      ]
     },
     "execution_count": 224,
     "metadata": {},
     "output_type": "execute_result"
    }
   ],
   "source": [
    "rosenbrock_performance(lbfgs, SAMPLES, DIMENS, ITERS, ERROR)"
   ]
  },
  {
   "cell_type": "markdown",
   "metadata": {},
   "source": [
    "# Mean performance of 100 runs for 4 dimens"
   ]
  },
  {
   "cell_type": "code",
   "execution_count": 225,
   "metadata": {},
   "outputs": [],
   "source": [
    "DIMENS = 4;"
   ]
  },
  {
   "cell_type": "markdown",
   "metadata": {},
   "source": [
    "### Gradient Descent performance"
   ]
  },
  {
   "cell_type": "code",
   "execution_count": 226,
   "metadata": {},
   "outputs": [
    {
     "data": {
      "text/plain": [
       "(10000.0, 1.7682356558224654, 0.01386293305, 1.1592096e7)"
      ]
     },
     "execution_count": 226,
     "metadata": {},
     "output_type": "execute_result"
    }
   ],
   "source": [
    "rosenbrock_performance(gd, SAMPLES, DIMENS, ITERS, ERROR)"
   ]
  },
  {
   "cell_type": "markdown",
   "metadata": {},
   "source": [
    "### Newton's Method performance"
   ]
  },
  {
   "cell_type": "code",
   "execution_count": 227,
   "metadata": {},
   "outputs": [
    {
     "data": {
      "text/plain": [
       "(1710.08, 0.6295164370112346, 0.00830089069, 1.213725888e7)"
      ]
     },
     "execution_count": 227,
     "metadata": {},
     "output_type": "execute_result"
    }
   ],
   "source": [
    "rosenbrock_performance(rosenbrock_newton, SAMPLES, DIMENS, ITERS, ERROR)"
   ]
  },
  {
   "cell_type": "markdown",
   "metadata": {},
   "source": [
    "### BFGS performance"
   ]
  },
  {
   "cell_type": "code",
   "execution_count": 228,
   "metadata": {},
   "outputs": [
    {
     "data": {
      "text/plain": [
       "(20.37, 2.5608e-6, 0.00070068644, 908448.48)"
      ]
     },
     "execution_count": 228,
     "metadata": {},
     "output_type": "execute_result"
    }
   ],
   "source": [
    "rosenbrock_performance(rosenbrock_BFGS, SAMPLES, DIMENS, ITERS, ERROR)"
   ]
  },
  {
   "cell_type": "markdown",
   "metadata": {},
   "source": [
    "### L-BFGS performance"
   ]
  },
  {
   "cell_type": "code",
   "execution_count": 229,
   "metadata": {},
   "outputs": [
    {
     "data": {
      "text/plain": [
       "(23.85, 2.7256000000000002e-6, 0.00110630277, 1.06946208e6)"
      ]
     },
     "execution_count": 229,
     "metadata": {},
     "output_type": "execute_result"
    }
   ],
   "source": [
    "rosenbrock_performance(lbfgs, SAMPLES, DIMENS, ITERS, ERROR)"
   ]
  },
  {
   "cell_type": "markdown",
   "metadata": {},
   "source": [
    "# Visualization of Rosenbrock value change for 2 dimens"
   ]
  },
  {
   "cell_type": "code",
   "execution_count": null,
   "metadata": {},
   "outputs": [],
   "source": []
  },
  {
   "cell_type": "markdown",
   "metadata": {},
   "source": [
    "# Visualization of Rosenbrock value change for 4 dimens"
   ]
  },
  {
   "cell_type": "code",
   "execution_count": null,
   "metadata": {},
   "outputs": [],
   "source": []
  }
 ],
 "metadata": {
  "kernelspec": {
   "display_name": "Julia 1.5.3",
   "language": "julia",
   "name": "julia-1.5"
  },
  "language_info": {
   "file_extension": ".jl",
   "mimetype": "application/julia",
   "name": "julia",
   "version": "1.5.3"
  }
 },
 "nbformat": 4,
 "nbformat_minor": 4
}
