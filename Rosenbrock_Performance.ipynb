{
 "cells": [
  {
   "cell_type": "markdown",
   "metadata": {
    "scrolled": true
   },
   "source": [
    "### Preparation"
   ]
  },
  {
   "cell_type": "code",
   "execution_count": 178,
   "metadata": {
    "collapsed": true
   },
   "outputs": [
    {
     "name": "stdout",
     "output_type": "stream",
     "text": [
      "[4.35903187, 0.88508975, 0.71357297, 0.5682926, 0.39783956, 0.28681072, 0.2446889, 0.00662869, 0.00630391, 0.00145395]\n",
      "[40.6137926, 4.62894776, 4.62403037, 3.90296864, 3.59653136, 1.41797659, 1.3939231, 1.1102141, 0.81889474, 0.64550908]\n",
      "function value in iteration 1 for x=[-58.21493943098327, 44.765612379044214] is 1.1183799402817593e9\n",
      "function value in iteration 2 for x=[7.78733361641749e7, 668887.4777271803] is 3.6775206711858544e33\n",
      "function value in iteration 3 for x=[-1.8889755352658453e26, 1.2128512969346094e18] is 1.2732255147981023e107\n",
      "function value in iteration 4 for x=[2.6961185913271544e81, 7.136457145665774e54] is Inf\n",
      "function value in iteration 5 for x=[-7.839294225219906e246, 1.4538110916999838e165] is Inf\n",
      "function value in iteration 5666 for x=[0.9968403531725719, 0.9936780220224787] is 9.999415112942938e-6\n",
      "function value in iteration 1 for x=[0.09273646170588251, 0.008571907510431576] is 0.823127207125418\n",
      "function value in iteration 2 for x=[0.9949218117077823, 0.17593100565384537] is 66.24959862479201\n",
      "function value in iteration 3 for x=[0.9949528164100685, 0.9899311059210357] is 2.5474062190566265e-5\n",
      "function value in iteration 4 for x=[0.9999999990296372, 0.999974524006879] is 6.489273454525488e-8\n",
      "function value in iteration 1 for x=[2.0, 2.0, 0.0, 0.0] is 2403.0\n",
      "function value in iteration 2 for x=[-1600.0, -1200.0, 0.0, 0.0] is 7.009447403851203e15\n",
      "function value in iteration 3 for x=[1.639168001602e12, 6.93056241202e11, 0.0, 0.0] is 5.950592759290638e53\n",
      "function value in iteration 4 for x=[-1.7616936705912477e39, -1.3315743716473421e38, 0.0, 0.0] is 5.373886071432001e167\n",
      "function value in iteration 5 for x=[2.187012037085861e120, 9.444006446884544e116, 0.0, 0.0] is Inf\n",
      "function value in iteration 9893 for x=[0.9993129371624921, 0.9986237607279519, 0.0, 0.0] is 9.990977777189374e-6\n",
      "function value in iteration 1 for x=[0.4708338851413991, 0.0621733230680957, 0.0, 0.0] is 23.121833437817873\n",
      "function value in iteration 2 for x=[-8.20646042545319, -10.986944295545767, 0.0, 0.0] is 2.087475931743419e6\n",
      "function value in iteration 3 for x=[-5.304756830223305, -7.973161645118605, 0.0, 0.0] is 2.893733773040041e7\n",
      "function value in iteration 4 for x=[-3.3452155401741237, -5.98536149432956, 0.0, 0.0] is 47882.42702981656\n",
      "function value in iteration 5 for x=[-1.9268441341400346, -5.5772258294282, 0.0, 0.0] is 456933.10618368565\n",
      "function value in iteration 6 for x=[-0.8649833169070877, -5.494095691815119, 0.0, 0.0] is 4840.839829032838\n",
      "function value in iteration 7 for x=[-0.9926404931284104, 1.901815802376051, 0.0, 0.0] is 4.347094600706308e9\n",
      "function value in iteration 8 for x=[-0.2647378561950139, 0.21866913279540423, 0.0, 0.0] is 258759.2094648015\n",
      "function value in iteration 9 for x=[6.564349516380654, 0.18195490332270162, 0.0, 0.0] is 6.556335944020072e8\n",
      "function value in iteration 10 for x=[5.956326568520486, 31.13748790182279, 0.0, 0.0] is 9.399602684900524e7\n",
      "function value in iteration 11 for x=[5.588762998274168, 30.835179582576437, 0.0, 0.0] is 7.849520321730512e13\n",
      "function value in iteration 12 for x=[5.539285667477964, 30.681765617588198, 0.0, 0.0] is 885075.0601815376\n",
      "function value in iteration 13 for x=[4.160161111627609, 15.407330385544316, 0.0, 0.0] is 7.716781463958492e13\n",
      "function value in iteration 14 for x=[3.364971140774748, 10.330446959133052, 0.0, 0.0] is 1.0543359714790366e6\n",
      "function value in iteration 15 for x=[3.2084861364345656, 10.227018081785358, 0.0, 0.0] is 9.804899507992628e9\n",
      "function value in iteration 16 for x=[3.1896264210942835, 10.176377281987634, 0.0, 0.0] is 10606.651605987387\n",
      "function value in iteration 17 for x=[2.399174713828831, 5.134078069274308, 0.0, 0.0] is 1.1090391133119726e10\n",
      "function value in iteration 18 for x=[1.9456492668659124, 3.464264736061562, 0.0, 0.0] is 12263.16508292826\n",
      "function value in iteration 19 for x=[1.8575418720842591, 3.430353404094433, 0.0, 0.0] is 1.3229897873095272e6\n",
      "function value in iteration 20 for x=[1.8471690637706955, 3.4140940163361995, 0.0, 0.0] is 120.16326781294508\n",
      "function value in iteration 21 for x=[1.4134355628432178, 1.8112782641592007, 0.0, 0.0] is 1.435452103257742e6\n",
      "function value in iteration 22 for x=[1.1787882763038515, 1.3041500469279912, 0.0, 0.0] is 97.60064880786105\n",
      "function value in iteration 23 for x=[1.139590986848725, 1.2948838224078274, 0.0, 0.0] is 82.80673686350681\n",
      "function value in iteration 24 for x=[1.1355549360152857, 1.290050074644444, 0.0, 0.0] is 0.5456274324446396\n",
      "function value in iteration 25 for x=[1.0160607341570618, 1.0182307301209947, 0.0, 0.0] is 24.878469231478803\n",
      "function value in iteration 26 for x=[0.9928889953698372, 0.9849339672714903, 0.0, 0.0] is 0.002905920324809314\n",
      "function value in iteration 27 for x=[0.9990293690036008, 0.9980226204877053, 0.0, 0.0] is 9.997540602943211e-5\n",
      "function value in iteration 28 for x=[0.9998773385216023, 0.9997533905894546, 0.0, 0.0] is 3.4184427797132926e-7\n"
     ]
    }
   ],
   "source": [
    "using BenchmarkTools\n",
    "\n",
    "using NBInclude;\n",
    "@nbinclude(\"Rosenbrock_BFGS.ipynb\");\n",
    "@nbinclude(\"Rosenbrock_GD_Newton.ipynb\");"
   ]
  },
  {
   "cell_type": "code",
   "execution_count": 169,
   "metadata": {},
   "outputs": [
    {
     "data": {
      "text/plain": [
       "rosenbrock_performance (generic function with 2 methods)"
      ]
     },
     "execution_count": 169,
     "metadata": {},
     "output_type": "execute_result"
    }
   ],
   "source": [
    "function rosenbrock_performance(fun, samples, dimensions, max_iters, max_error=0)\n",
    "    timed_history = []\n",
    "    for j in 1:samples\n",
    "        timed = @timed fun(rand(dimensions), max_iters, max_error)\n",
    "        push!(timed_history, timed)\n",
    "    end\n",
    "    \n",
    "    mean_iters = sum(map(h->h.value[3], timed_history))/samples\n",
    "    mean_error = sum(map(h->last(h.value[2]), timed_history))/samples\n",
    "    mean_exec_time = sum(map(h->h.time, timed_history))/samples\n",
    "    mean_alloc_bytes = sum(map(h->h.bytes, timed_history))/samples\n",
    "    \n",
    "    return mean_iters, mean_error, mean_exec_time, mean_alloc_bytes\n",
    "end"
   ]
  },
  {
   "cell_type": "code",
   "execution_count": 179,
   "metadata": {},
   "outputs": [],
   "source": [
    "SAMPLES = 10;\n",
    "DIMENS = 3;\n",
    "ITERS = 10000;\n",
    "ERROR = 10e-6;\n",
    "\n",
    "rate = 0.001953125; #GradientDescent\n",
    "m = 4; #L-BFGS"
   ]
  },
  {
   "cell_type": "markdown",
   "metadata": {},
   "source": [
    "### Gradient Descent performance"
   ]
  },
  {
   "cell_type": "code",
   "execution_count": 180,
   "metadata": {},
   "outputs": [
    {
     "data": {
      "text/plain": [
       "(10000.0, 0.6086631932049913, 0.0198483748, 1.11247479e7)"
      ]
     },
     "execution_count": 180,
     "metadata": {},
     "output_type": "execute_result"
    }
   ],
   "source": [
    "gd(x, max_iters, max_error) = rosenbrock_gradient_descent(x, rate, max_iters, max_error)\n",
    "rosenbrock_performance(gd, SAMPLES, DIMENS, ITERS, ERROR)"
   ]
  },
  {
   "cell_type": "markdown",
   "metadata": {},
   "source": [
    "### Newtons' Method performance"
   ]
  },
  {
   "cell_type": "code",
   "execution_count": 181,
   "metadata": {},
   "outputs": [
    {
     "data": {
      "text/plain": [
       "(9.5, 4.102236698561272e-7, 0.0722284525, 1.43692278e7)"
      ]
     },
     "execution_count": 181,
     "metadata": {},
     "output_type": "execute_result"
    }
   ],
   "source": [
    "rosenbrock_performance(rosenbrock_newton, SAMPLES, DIMENS, ITERS, ERROR)"
   ]
  },
  {
   "cell_type": "markdown",
   "metadata": {},
   "source": [
    "### BFGS performance"
   ]
  },
  {
   "cell_type": "code",
   "execution_count": 182,
   "metadata": {},
   "outputs": [
    {
     "data": {
      "text/plain": [
       "(15.3, 3.273e-6, 0.0062869816, 1.1553466e6)"
      ]
     },
     "execution_count": 182,
     "metadata": {},
     "output_type": "execute_result"
    }
   ],
   "source": [
    "rosenbrock_performance(rosenbrock_BFGS, SAMPLES, DIMENS, ITERS, ERROR)"
   ]
  },
  {
   "cell_type": "markdown",
   "metadata": {},
   "source": [
    "### L-BFGS performance"
   ]
  },
  {
   "cell_type": "code",
   "execution_count": 183,
   "metadata": {},
   "outputs": [
    {
     "data": {
      "text/plain": [
       "(18.7, 3.5139999999999997e-6, 0.0056819626, 1.1381331e6)"
      ]
     },
     "execution_count": 183,
     "metadata": {},
     "output_type": "execute_result"
    }
   ],
   "source": [
    "lbfgs(x, max_iters, max_error) = rosenbrock_LBFGS(x, m, max_iters, max_error)\n",
    "rosenbrock_performance(lbfgs, SAMPLES, DIMENS, ITERS, ERROR)"
   ]
  }
 ],
 "metadata": {
  "kernelspec": {
   "display_name": "Julia 1.5.3",
   "language": "julia",
   "name": "julia-1.5"
  },
  "language_info": {
   "file_extension": ".jl",
   "mimetype": "application/julia",
   "name": "julia",
   "version": "1.5.3"
  }
 },
 "nbformat": 4,
 "nbformat_minor": 4
}
