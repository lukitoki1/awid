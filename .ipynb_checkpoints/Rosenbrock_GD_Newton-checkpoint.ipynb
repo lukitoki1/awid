{
 "cells": [
  {
   "cell_type": "markdown",
   "metadata": {},
   "source": [
    "## Preparation"
   ]
  },
  {
   "cell_type": "markdown",
   "metadata": {},
   "source": [
    "Imported necessary packages"
   ]
  },
  {
   "cell_type": "code",
   "execution_count": null,
   "metadata": {},
   "outputs": [],
   "source": [
    "using ForwardDiff\n",
    "using NBInclude\n",
    "@nbinclude(\"Visualization.ipynb\");"
   ]
  },
  {
   "cell_type": "markdown",
   "metadata": {},
   "source": [
    "Defined Rosenbrock function"
   ]
  },
  {
   "cell_type": "code",
   "execution_count": null,
   "metadata": {},
   "outputs": [],
   "source": [
    "rosenbrock(x) = sum([100*(x[i+1]-x[i]^2)^2 + (1-x[i])^2 for i in 1:(length(x)-1)])"
   ]
  },
  {
   "cell_type": "markdown",
   "metadata": {},
   "source": [
    "Defined util functions for logging the results of optimizations"
   ]
  },
  {
   "cell_type": "code",
   "execution_count": null,
   "metadata": {},
   "outputs": [],
   "source": [
    "function log(x, y, last::Bool=false)\n",
    "    n = length(y)\n",
    "    for i in (last ? n : 1):n\n",
    "        println(\"function value in iteration $i for x=$(x[:, i]) is $(y[i])\")\n",
    "    end\n",
    "end"
   ]
  },
  {
   "cell_type": "code",
   "execution_count": null,
   "metadata": {},
   "outputs": [],
   "source": [
    "log(xy::Tuple, last::Bool=false) = log(xy[1], xy[2], last)"
   ]
  },
  {
   "cell_type": "code",
   "execution_count": null,
   "metadata": {},
   "outputs": [],
   "source": [
    "ITERS = 10000;\n",
    "ERROR = 10e-6;"
   ]
  },
  {
   "cell_type": "markdown",
   "metadata": {},
   "source": [
    "## Gradient Descent"
   ]
  },
  {
   "cell_type": "code",
   "execution_count": null,
   "metadata": {},
   "outputs": [],
   "source": [
    "rosenbrock_gradient(x) = ForwardDiff.gradient(rosenbrock, x)"
   ]
  },
  {
   "cell_type": "code",
   "execution_count": null,
   "metadata": {},
   "outputs": [],
   "source": [
    "function rosenbrock_gradient_descent(x, learningRate, max_iters, max_error=0)\n",
    "    dimensions = length(x)\n",
    "    arguments = zeros(dimensions, max_iters)\n",
    "    values = zeros(max_iters)\n",
    "    \n",
    "    for i in 1:max_iters\n",
    "        arguments[1, i] = x[1]\n",
    "        arguments[2, i] = x[2]\n",
    "        values[i] = rosenbrock(x)\n",
    "        \n",
    "        gradient = rosenbrock_gradient(x)\n",
    "        x -= (learningRate * gradient)\n",
    "        \n",
    "        if values[i] < max_error\n",
    "            return (arguments[:, 1:i], values[1:i], i)\n",
    "        end\n",
    "    end\n",
    "    return (arguments, values, max_iters)\n",
    "end"
   ]
  },
  {
   "cell_type": "code",
   "execution_count": null,
   "metadata": {},
   "outputs": [],
   "source": [
    "log(rosenbrock_gradient_descent(rand(2), 1, 5))"
   ]
  },
  {
   "cell_type": "code",
   "execution_count": null,
   "metadata": {},
   "outputs": [],
   "source": [
    "arg, val = rosenbrock_gradient_descent(rand(2), 0.001953125, ITERS, ERROR)\n",
    "log(arg, val, true)"
   ]
  },
  {
   "cell_type": "code",
   "execution_count": null,
   "metadata": {},
   "outputs": [],
   "source": [
    "y = [round(v, digits=8) for v in val]\n",
    "visualize_training_process(length(y), y, \n",
    "    \"The optimization process of 2-dimensional Rosenbrock function using Gradient Descent\", \n",
    "    \"Iteration\", \"Rosenbrock function value\")"
   ]
  },
  {
   "cell_type": "code",
   "execution_count": null,
   "metadata": {},
   "outputs": [],
   "source": [
    "ax = LinRange(0, 1.5, 100);\n",
    "levels = [LinRange(0, 100, 20)...];"
   ]
  },
  {
   "cell_type": "code",
   "execution_count": null,
   "metadata": {},
   "outputs": [],
   "source": [
    "contour_cost(\n",
    "    ax, ax,\n",
    "    (x, y) -> rosenbrock( [x, y] ), \n",
    "    levels, arg, 100,\n",
    "    \"The optimization process of 2-dimensional Rosenbrock using Gradient Descent\",\n",
    "    \"x1\", \"x2\",\n",
    ")"
   ]
  },
  {
   "cell_type": "markdown",
   "metadata": {},
   "source": [
    "## Newton"
   ]
  },
  {
   "cell_type": "code",
   "execution_count": null,
   "metadata": {},
   "outputs": [],
   "source": [
    "rosenbrock_hessian(x) = ForwardDiff.hessian(rosenbrock, x)"
   ]
  },
  {
   "cell_type": "code",
   "execution_count": null,
   "metadata": {},
   "outputs": [],
   "source": [
    "function rosenbrock_newton(x, max_iters, max_error=0)\n",
    "    dimensions = length(x)\n",
    "    arguments = zeros(dimensions, max_iters)\n",
    "    values = zeros(max_iters)\n",
    "    \n",
    "    for i in 1:max_iters\n",
    "        arguments[1, i] = x[1]\n",
    "        arguments[2, i] = x[2]\n",
    "        values[i] = rosenbrock(x)\n",
    "        \n",
    "        hessian = rosenbrock_hessian(x)\n",
    "        hessian_inverted = inv(hessian)\n",
    "        gradient = rosenbrock_gradient(x)\n",
    "        x -= hessian_inverted * gradient\n",
    "        \n",
    "        if values[i] < max_error\n",
    "            return (arguments[:, 1:i], values[1:i], i)\n",
    "        end\n",
    "    end\n",
    "    return (arguments, values, max_iters)\n",
    "end\n",
    "    "
   ]
  },
  {
   "cell_type": "code",
   "execution_count": null,
   "metadata": {},
   "outputs": [],
   "source": [
    "arg, val = rosenbrock_newton(rand(2), ITERS, ERROR)\n",
    "log(arg, val)"
   ]
  },
  {
   "cell_type": "code",
   "execution_count": null,
   "metadata": {},
   "outputs": [],
   "source": [
    "y = [round(v, digits=8) for v in val]\n",
    "visualize_training_process(length(y), y, \n",
    "    \"The optimization process of 2-dimensional Rosenbrock function using Newton's Method\", \n",
    "    \"Iteration\", \"Rosenbrock function value\")"
   ]
  },
  {
   "cell_type": "code",
   "execution_count": null,
   "metadata": {},
   "outputs": [],
   "source": [
    "ax = LinRange(0, 1.5, 100);\n",
    "levels = [LinRange(0, 100, 20)...];"
   ]
  },
  {
   "cell_type": "code",
   "execution_count": null,
   "metadata": {},
   "outputs": [],
   "source": [
    "contour_cost(\n",
    "    ax, ax,\n",
    "    (x, y) -> rosenbrock( [x, y] ), \n",
    "    levels, arg, 1,\n",
    "    \"The optimization process of 2-dimensional Rosenbrock using using Newton's Method\",\n",
    "    \"x1\", \"x2\",\n",
    ")"
   ]
  },
  {
   "cell_type": "markdown",
   "metadata": {},
   "source": [
    "## 4-dimension functions"
   ]
  },
  {
   "cell_type": "code",
   "execution_count": null,
   "metadata": {},
   "outputs": [],
   "source": [
    "log(rosenbrock_gradient_descent(zeros(4), 1, 5))"
   ]
  },
  {
   "cell_type": "code",
   "execution_count": null,
   "metadata": {},
   "outputs": [],
   "source": [
    "arg, val = rosenbrock_gradient_descent(zeros(4), 0.001, ITERS, ERROR)\n",
    "log(arg, val, true)"
   ]
  },
  {
   "cell_type": "code",
   "execution_count": null,
   "metadata": {},
   "outputs": [],
   "source": [
    "visualize_training_process(length(val), val, \n",
    "    \"The optimization process of 4-dimensional Rosenbrock function using Gradient Descent\", \n",
    "    \"Iteration\", \"Rosenbrock function value\")"
   ]
  },
  {
   "cell_type": "code",
   "execution_count": null,
   "metadata": {},
   "outputs": [],
   "source": [
    "arg, val = rosenbrock_newton(rand(4), ITERS, ERROR)\n",
    "log(arg, val)"
   ]
  },
  {
   "cell_type": "code",
   "execution_count": null,
   "metadata": {},
   "outputs": [],
   "source": [
    "visualize_training_process(length(val), val, \n",
    "    \"The optimization process of 2-dimensional Rosenbrock function using Newton's Method\", \n",
    "    \"Iteration\", \"Rosenbrock function value\")"
   ]
  }
 ],
 "metadata": {
  "kernelspec": {
   "display_name": "Julia 1.5.3",
   "language": "julia",
   "name": "julia-1.5"
  },
  "language_info": {
   "file_extension": ".jl",
   "mimetype": "application/julia",
   "name": "julia",
   "version": "1.5.3"
  }
 },
 "nbformat": 4,
 "nbformat_minor": 4
}
