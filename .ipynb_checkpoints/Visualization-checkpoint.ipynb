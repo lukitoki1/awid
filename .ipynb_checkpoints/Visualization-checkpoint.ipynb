{
 "cells": [
  {
   "cell_type": "markdown",
   "metadata": {},
   "source": [
    "# Dataset and Training Visualizations"
   ]
  },
  {
   "cell_type": "code",
   "execution_count": 1,
   "metadata": {},
   "outputs": [],
   "source": [
    "using Gadfly"
   ]
  },
  {
   "cell_type": "code",
   "execution_count": 2,
   "metadata": {},
   "outputs": [],
   "source": [
    "theme = Theme(\n",
    "    panel_fill=colorant\"gray10\",\n",
    "    default_color=colorant\"cyan\",\n",
    "    major_label_color=colorant\"black\",\n",
    "    minor_label_color=colorant\"black\",\n",
    "    key_label_color=colorant\"black\",\n",
    "    key_title_color=colorant\"black\"\n",
    ");"
   ]
  },
  {
   "cell_type": "code",
   "execution_count": 3,
   "metadata": {},
   "outputs": [],
   "source": [
    "function visualize_dataset( X, Y, COLOR, title, xlabel, ylabel )\n",
    "    set_default_plot_size(18cm, 13cm)\n",
    "    plot(\n",
    "        x=X, y=Y, Geom.point, color=COLOR[:],\n",
    "        Scale.color_discrete(), theme,\n",
    "        Guide.title(title), Guide.xlabel(xlabel), Guide.ylabel(ylabel)\n",
    "    )\n",
    "end;"
   ]
  },
  {
   "cell_type": "code",
   "execution_count": 4,
   "metadata": {},
   "outputs": [],
   "source": [
    "function visualize_training_process( IT, Y, title, xlabel, ylabel )\n",
    "    set_default_plot_size(18cm, 10cm)\n",
    "    step = (IT >= 10) ? IT ÷ 10 : 1\n",
    "    plot(\n",
    "        x=collect(1:IT), y=Y[1:IT],\n",
    "        Geom.line, Guide.xticks(ticks=0:step:IT),\n",
    "        theme,\n",
    "        Guide.title(title), Guide.xlabel(xlabel), Guide.ylabel(ylabel)\n",
    "    )\n",
    "end;"
   ]
  },
  {
   "cell_type": "code",
   "execution_count": 1,
   "metadata": {},
   "outputs": [],
   "source": [
    "function contour_cost(\n",
    "        ax1, ax2, fun, levels, trace, each, title, xlabel, ylabel )\n",
    "    set_default_plot_size(22cm, 18cm)\n",
    "    \n",
    "    plot(\n",
    "        layer(z = fun, x = ax1, y = ax2, Geom.contour(levels=levels)),\n",
    "        layer( x=trace[1, 1:each:end], y=trace[2,1:each:end], Geom.point ),\n",
    "        layer( x=trace[1, 1:each:end], y=trace[2,1:each:end], Geom.line ),\n",
    "        theme,\n",
    "        Guide.title(title), Guide.xlabel(xlabel), Guide.ylabel(ylabel)\n",
    "    )\n",
    "end;"
   ]
  }
 ],
 "metadata": {
  "kernelspec": {
   "display_name": "Julia 1.5.3",
   "language": "julia",
   "name": "julia-1.5"
  },
  "language_info": {
   "file_extension": ".jl",
   "mimetype": "application/julia",
   "name": "julia",
   "version": "1.5.3"
  }
 },
 "nbformat": 4,
 "nbformat_minor": 2
}
