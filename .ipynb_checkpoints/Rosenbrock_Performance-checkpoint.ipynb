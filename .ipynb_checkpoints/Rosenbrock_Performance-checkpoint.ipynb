{
 "cells": [
  {
   "cell_type": "markdown",
   "metadata": {
    "scrolled": true
   },
   "source": [
    "# Preparation"
   ]
  },
  {
   "cell_type": "markdown",
   "metadata": {},
   "source": [
    "### Imports"
   ]
  },
  {
   "cell_type": "code",
   "execution_count": 374,
   "metadata": {},
   "outputs": [
    {
     "name": "stdout",
     "output_type": "stream",
     "text": [
      "[2.14904071, 0.02347236, 0.01779976, 0.00597336, 0.00207444, 0.00026375, 1.84e-5, 2.1e-7]\n",
      "[36.74630832, 0.04027771, 0.03943217, 0.02014417, 0.00575168, 0.00132995, 0.00038297, 2.602e-5, 1.0e-7]\n",
      "function value in iteration 1 for x=[-30.602321915314477, 20.040133499714255] is 8.399125352220204e7\n",
      "function value in iteration 2 for x=[1.1218378332010102e7, 183312.4347552642] is 1.5838728979017907e30\n",
      "function value in iteration 3 for x=[-5.6474219475713383e23, 2.5170402443543576e16] is 1.0171873468146972e97\n",
      "function value in iteration 4 for x=[7.204613760104371e73, 6.378674930782089e49] is 2.694280530795474e297\n",
      "function value in iteration 5 for x=[-1.4958639674565666e224, 1.038129188645705e150] is Inf\n",
      "function value in iteration 5498 for x=[0.9968411937372487, 0.9936797012171676] is 9.994095491355462e-6\n",
      "function value in iteration 1 for x=[0.33112708627872706, 0.10936724709420004] is 0.4473986975606142\n",
      "function value in iteration 2 for x=[0.9647814675349815, 0.5292854052137059] is 16.122900730265442\n",
      "function value in iteration 3 for x=[0.9652146407684459, 0.9316391151147101] is 0.0012100212203891092\n",
      "function value in iteration 4 for x=[0.9999986946306341, 0.9987874588598846] is 0.0001463931597355319\n",
      "function value in iteration 5 for x=[0.9999997456644469, 0.999999491327854] is 6.468657367368733e-14\n",
      "function value in iteration 1 for x=[2.0, 2.0, 0.0, 0.0] is 2403.0\n",
      "function value in iteration 2 for x=[-1600.0, -1200.0, 0.0, 0.0] is 7.009447403851203e15\n",
      "function value in iteration 3 for x=[1.639168001602e12, 6.93056241202e11, 0.0, 0.0] is 5.950592759290638e53\n",
      "function value in iteration 4 for x=[-1.7616936705912477e39, -1.3315743716473421e38, 0.0, 0.0] is 5.373886071432001e167\n",
      "function value in iteration 5 for x=[2.187012037085861e120, 9.444006446884544e116, 0.0, 0.0] is Inf\n",
      "function value in iteration 9893 for x=[0.9993129371624921, 0.9986237607279519, 0.0, 0.0] is 9.990977777189374e-6\n",
      "function value in iteration 1 for x=[0.8104889528038486, 0.47295085003090354, 0.0, 0.0] is 48.344880732654374\n",
      "function value in iteration 2 for x=[0.6837398603572816, 0.420717952073927, 0.0, 0.0] is 1.7741291777945383\n",
      "function value in iteration 3 for x=[0.7150071072070286, 0.5103127885695572, 0.0, 0.0] is 0.9092683965392724\n",
      "function value in iteration 4 for x=[0.8600749613215315, 0.7178929104478685, 0.0, 0.0] is 0.8361095320452744\n",
      "function value in iteration 5 for x=[0.8574829224618101, 0.7343759201798126, 0.0, 0.0] is 0.307207920477532\n",
      "function value in iteration 6 for x=[0.9580837103412276, 0.9076651739792163, 0.0, 0.0] is 0.58428071681018\n",
      "function value in iteration 7 for x=[0.950441238586276, 0.9029396697323326, 0.0, 0.0] is 0.046441521754895895\n",
      "function value in iteration 8 for x=[0.9980183501467812, 0.9937865878078715, 0.0, 0.0] is 0.0818452732453191\n",
      "function value in iteration 9 for x=[0.9959312644658077, 0.9918496298277262, 0.0, 0.0] is 0.00034958113092034\n",
      "function value in iteration 10 for x=[0.9999964574912711, 0.9999764916400394, 0.0, 0.0] is 7.348585486626208e-6\n"
     ]
    }
   ],
   "source": [
    "using NBInclude;\n",
    "@nbinclude(\"Rosenbrock_BFGS.ipynb\");\n",
    "@nbinclude(\"Rosenbrock_GD_Newton.ipynb\");\n",
    "\n",
    "using BenchmarkTools\n",
    "using StatPlots"
   ]
  },
  {
   "cell_type": "markdown",
   "metadata": {},
   "source": [
    "# Mean performance of 100 runs - preparation"
   ]
  },
  {
   "cell_type": "markdown",
   "metadata": {},
   "source": [
    "### Constants"
   ]
  },
  {
   "cell_type": "code",
   "execution_count": 375,
   "metadata": {},
   "outputs": [],
   "source": [
    "SAMPLES = 100;\n",
    "ITERS = 10000;\n",
    "ERROR = 10e-6;\n",
    "rate = 0.001953125; #GradientDescent\n",
    "m = 4; #L-BFGS"
   ]
  },
  {
   "cell_type": "markdown",
   "metadata": {},
   "source": [
    "### Variables"
   ]
  },
  {
   "cell_type": "code",
   "execution_count": 376,
   "metadata": {},
   "outputs": [],
   "source": [
    "mean_iters = zeros(8);\n",
    "mean_error = zeros(8);\n",
    "mean_exec_time = zeros(8);\n",
    "mean_alloc_bytes = zeros(8);"
   ]
  },
  {
   "cell_type": "markdown",
   "metadata": {},
   "source": [
    "### Testing mean performance"
   ]
  },
  {
   "cell_type": "code",
   "execution_count": 377,
   "metadata": {},
   "outputs": [
    {
     "data": {
      "text/plain": [
       "rosenbrock_performance (generic function with 2 methods)"
      ]
     },
     "execution_count": 377,
     "metadata": {},
     "output_type": "execute_result"
    }
   ],
   "source": [
    "function rosenbrock_performance(fun, samples, dimensions, max_iters, max_error=0)\n",
    "    timed_history = []\n",
    "    for j in 1:samples\n",
    "        timed = @timed fun(rand(dimensions), max_iters, max_error)\n",
    "        push!(timed_history, timed)\n",
    "    end\n",
    "    \n",
    "    mean_iters = sum(map(h->h.value[3], timed_history))/samples\n",
    "    mean_error = sum(map(h->last(h.value[2]), timed_history))/samples\n",
    "    mean_exec_time = sum(map(h->h.time, timed_history))/samples\n",
    "    mean_alloc_bytes = sum(map(h->h.bytes, timed_history))/samples\n",
    "    \n",
    "    return mean_iters, mean_error, mean_exec_time, mean_alloc_bytes\n",
    "end"
   ]
  },
  {
   "cell_type": "code",
   "execution_count": 378,
   "metadata": {},
   "outputs": [
    {
     "data": {
      "text/plain": [
       "test_performance (generic function with 2 methods)"
      ]
     },
     "execution_count": 378,
     "metadata": {},
     "output_type": "execute_result"
    }
   ],
   "source": [
    "function test_performance(fun, i)\n",
    "    iters, error, time, bytes = rosenbrock_performance(fun, SAMPLES, DIMENS, ITERS, ERROR)\n",
    "    mean_iters[i] = iters; mean_error[i] = error; mean_exec_time[i] = time; mean_alloc_bytes[i] = bytes;\n",
    "    return iters, error, time, bytes\n",
    "end"
   ]
  },
  {
   "cell_type": "markdown",
   "metadata": {},
   "source": [
    "### Adapters"
   ]
  },
  {
   "cell_type": "code",
   "execution_count": 379,
   "metadata": {},
   "outputs": [
    {
     "data": {
      "text/plain": [
       "lbfgs (generic function with 1 method)"
      ]
     },
     "execution_count": 379,
     "metadata": {},
     "output_type": "execute_result"
    }
   ],
   "source": [
    "gd(x, max_iters, max_error) = rosenbrock_gradient_descent(x, rate, max_iters, max_error)\n",
    "lbfgs(x, max_iters, max_error) = rosenbrock_LBFGS(x, m, max_iters, max_error)"
   ]
  },
  {
   "cell_type": "markdown",
   "metadata": {},
   "source": [
    "# Mean performance of 100 runs for 2 dimens"
   ]
  },
  {
   "cell_type": "code",
   "execution_count": 380,
   "metadata": {},
   "outputs": [],
   "source": [
    "DIMENS = 2;"
   ]
  },
  {
   "cell_type": "markdown",
   "metadata": {},
   "source": [
    "### Gradient Descent performance"
   ]
  },
  {
   "cell_type": "code",
   "execution_count": 381,
   "metadata": {},
   "outputs": [
    {
     "data": {
      "text/plain": [
       "(5205.47, 9.992047105148712e-6, 0.006724398899999999, 4.52159776e6)"
      ]
     },
     "execution_count": 381,
     "metadata": {},
     "output_type": "execute_result"
    }
   ],
   "source": [
    "test_performance(gd, 1)"
   ]
  },
  {
   "cell_type": "markdown",
   "metadata": {},
   "source": [
    "### Newton's Method performance"
   ]
  },
  {
   "cell_type": "code",
   "execution_count": 382,
   "metadata": {},
   "outputs": [
    {
     "data": {
      "text/plain": [
       "(3.99, 1.5654975683774541e-6, 0.00013217358, 254433.92)"
      ]
     },
     "execution_count": 382,
     "metadata": {},
     "output_type": "execute_result"
    }
   ],
   "source": [
    "test_performance(rosenbrock_newton, 2)"
   ]
  },
  {
   "cell_type": "markdown",
   "metadata": {},
   "source": [
    "### BFGS performance"
   ]
  },
  {
   "cell_type": "code",
   "execution_count": 383,
   "metadata": {},
   "outputs": [
    {
     "data": {
      "text/plain": [
       "(9.98, 2.3050999999999997e-6, 0.0010296111899999998, 493098.34)"
      ]
     },
     "execution_count": 383,
     "metadata": {},
     "output_type": "execute_result"
    }
   ],
   "source": [
    "test_performance(rosenbrock_BFGS, 3)"
   ]
  },
  {
   "cell_type": "markdown",
   "metadata": {},
   "source": [
    "### L-BFGS performance"
   ]
  },
  {
   "cell_type": "code",
   "execution_count": 384,
   "metadata": {},
   "outputs": [
    {
     "data": {
      "text/plain": [
       "(10.34, 2.2549e-6, 0.00163684315, 517770.27)"
      ]
     },
     "execution_count": 384,
     "metadata": {},
     "output_type": "execute_result"
    }
   ],
   "source": [
    "test_performance(lbfgs, 4)"
   ]
  },
  {
   "cell_type": "markdown",
   "metadata": {},
   "source": [
    "# Mean performance of 100 runs for 4 dimens"
   ]
  },
  {
   "cell_type": "code",
   "execution_count": 385,
   "metadata": {},
   "outputs": [],
   "source": [
    "DIMENS = 4;"
   ]
  },
  {
   "cell_type": "markdown",
   "metadata": {},
   "source": [
    "### Gradient Descent performance"
   ]
  },
  {
   "cell_type": "code",
   "execution_count": 386,
   "metadata": {},
   "outputs": [
    {
     "data": {
      "text/plain": [
       "(10000.0, 1.7675688271633105, 0.01236022363, 1.1592096e7)"
      ]
     },
     "execution_count": 386,
     "metadata": {},
     "output_type": "execute_result"
    }
   ],
   "source": [
    "test_performance(gd, 5)"
   ]
  },
  {
   "cell_type": "markdown",
   "metadata": {},
   "source": [
    "### Newton's Method performance"
   ]
  },
  {
   "cell_type": "code",
   "execution_count": 402,
   "metadata": {},
   "outputs": [
    {
     "data": {
      "text/plain": [
       "(811.96, 4283.898751071963, 0.00390262986, 5.97336464e6)"
      ]
     },
     "execution_count": 402,
     "metadata": {},
     "output_type": "execute_result"
    }
   ],
   "source": [
    "test_performance(rosenbrock_newton, 6)"
   ]
  },
  {
   "cell_type": "markdown",
   "metadata": {},
   "source": [
    "### BFGS performance"
   ]
  },
  {
   "cell_type": "code",
   "execution_count": 388,
   "metadata": {},
   "outputs": [
    {
     "data": {
      "text/plain": [
       "(20.54, 2.8218e-6, 0.00076019729, 912644.8)"
      ]
     },
     "execution_count": 388,
     "metadata": {},
     "output_type": "execute_result"
    }
   ],
   "source": [
    "test_performance(rosenbrock_BFGS, 7)"
   ]
  },
  {
   "cell_type": "markdown",
   "metadata": {},
   "source": [
    "### L-BFGS performance"
   ]
  },
  {
   "cell_type": "code",
   "execution_count": 389,
   "metadata": {},
   "outputs": [
    {
     "data": {
      "text/plain": [
       "(124.16, 0.037017144999999994, 0.00369491791, 3.65666448e6)"
      ]
     },
     "execution_count": 389,
     "metadata": {},
     "output_type": "execute_result"
    }
   ],
   "source": [
    "test_performance(lbfgs, 8)"
   ]
  },
  {
   "cell_type": "markdown",
   "metadata": {},
   "source": [
    "# Mean performance of 100 runs - visualization"
   ]
  },
  {
   "cell_type": "code",
   "execution_count": 390,
   "metadata": {},
   "outputs": [],
   "source": [
    "set_default_plot_size(18cm, 13cm)"
   ]
  },
  {
   "cell_type": "code",
   "execution_count": 423,
   "metadata": {},
   "outputs": [
    {
     "data": {
      "image/svg+xml": [
       "<?xml version=\"1.0\" encoding=\"utf-8\"?>\n",
       "<svg xmlns=\"http://www.w3.org/2000/svg\" xmlns:xlink=\"http://www.w3.org/1999/xlink\" width=\"600\" height=\"400\" viewBox=\"0 0 2400 1600\">\n",
       "<defs>\n",
       "  <clipPath id=\"clip9200\">\n",
       "    <rect x=\"0\" y=\"0\" width=\"2400\" height=\"1600\"/>\n",
       "  </clipPath>\n",
       "</defs>\n",
       "<path clip-path=\"url(#clip9200)\" d=\"\n",
       "M0 1600 L2400 1600 L2400 0 L0 0  Z\n",
       "  \" fill=\"#ffffff\" fill-rule=\"evenodd\" fill-opacity=\"1\"/>\n",
       "<defs>\n",
       "  <clipPath id=\"clip9201\">\n",
       "    <rect x=\"480\" y=\"0\" width=\"1681\" height=\"1600\"/>\n",
       "  </clipPath>\n",
       "</defs>\n",
       "<path clip-path=\"url(#clip9200)\" d=\"\n",
       "M282.66 1487.47 L2352.76 1487.47 L2352.76 183.952 L282.66 183.952  Z\n",
       "  \" fill=\"#ffffff\" fill-rule=\"evenodd\" fill-opacity=\"1\"/>\n",
       "<defs>\n",
       "  <clipPath id=\"clip9202\">\n",
       "    <rect x=\"282\" y=\"183\" width=\"2071\" height=\"1305\"/>\n",
       "  </clipPath>\n",
       "</defs>\n",
       "<polyline clip-path=\"url(#clip9202)\" style=\"stroke:#000000; stroke-width:2; stroke-opacity:0.1; fill:none\" points=\"\n",
       "  586.094,1487.47 586.094,183.952 \n",
       "  \"/>\n",
       "<polyline clip-path=\"url(#clip9202)\" style=\"stroke:#000000; stroke-width:2; stroke-opacity:0.1; fill:none\" points=\"\n",
       "  1073.84,1487.47 1073.84,183.952 \n",
       "  \"/>\n",
       "<polyline clip-path=\"url(#clip9202)\" style=\"stroke:#000000; stroke-width:2; stroke-opacity:0.1; fill:none\" points=\"\n",
       "  1561.58,1487.47 1561.58,183.952 \n",
       "  \"/>\n",
       "<polyline clip-path=\"url(#clip9202)\" style=\"stroke:#000000; stroke-width:2; stroke-opacity:0.1; fill:none\" points=\"\n",
       "  2049.32,1487.47 2049.32,183.952 \n",
       "  \"/>\n",
       "<polyline clip-path=\"url(#clip9202)\" style=\"stroke:#000000; stroke-width:2; stroke-opacity:0.1; fill:none\" points=\"\n",
       "  282.66,1450.58 2352.76,1450.58 \n",
       "  \"/>\n",
       "<polyline clip-path=\"url(#clip9202)\" style=\"stroke:#000000; stroke-width:2; stroke-opacity:0.1; fill:none\" points=\"\n",
       "  282.66,1143.15 2352.76,1143.15 \n",
       "  \"/>\n",
       "<polyline clip-path=\"url(#clip9202)\" style=\"stroke:#000000; stroke-width:2; stroke-opacity:0.1; fill:none\" points=\"\n",
       "  282.66,835.713 2352.76,835.713 \n",
       "  \"/>\n",
       "<polyline clip-path=\"url(#clip9202)\" style=\"stroke:#000000; stroke-width:2; stroke-opacity:0.1; fill:none\" points=\"\n",
       "  282.66,528.279 2352.76,528.279 \n",
       "  \"/>\n",
       "<polyline clip-path=\"url(#clip9202)\" style=\"stroke:#000000; stroke-width:2; stroke-opacity:0.1; fill:none\" points=\"\n",
       "  282.66,220.844 2352.76,220.844 \n",
       "  \"/>\n",
       "<polyline clip-path=\"url(#clip9200)\" style=\"stroke:#000000; stroke-width:4; stroke-opacity:1; fill:none\" points=\"\n",
       "  282.66,1487.47 2352.76,1487.47 \n",
       "  \"/>\n",
       "<polyline clip-path=\"url(#clip9200)\" style=\"stroke:#000000; stroke-width:4; stroke-opacity:1; fill:none\" points=\"\n",
       "  282.66,1487.47 282.66,183.952 \n",
       "  \"/>\n",
       "<polyline clip-path=\"url(#clip9200)\" style=\"stroke:#000000; stroke-width:4; stroke-opacity:1; fill:none\" points=\"\n",
       "  586.094,1487.47 586.094,1471.83 \n",
       "  \"/>\n",
       "<polyline clip-path=\"url(#clip9200)\" style=\"stroke:#000000; stroke-width:4; stroke-opacity:1; fill:none\" points=\"\n",
       "  1073.84,1487.47 1073.84,1471.83 \n",
       "  \"/>\n",
       "<polyline clip-path=\"url(#clip9200)\" style=\"stroke:#000000; stroke-width:4; stroke-opacity:1; fill:none\" points=\"\n",
       "  1561.58,1487.47 1561.58,1471.83 \n",
       "  \"/>\n",
       "<polyline clip-path=\"url(#clip9200)\" style=\"stroke:#000000; stroke-width:4; stroke-opacity:1; fill:none\" points=\"\n",
       "  2049.32,1487.47 2049.32,1471.83 \n",
       "  \"/>\n",
       "<polyline clip-path=\"url(#clip9200)\" style=\"stroke:#000000; stroke-width:4; stroke-opacity:1; fill:none\" points=\"\n",
       "  282.66,1450.58 307.501,1450.58 \n",
       "  \"/>\n",
       "<polyline clip-path=\"url(#clip9200)\" style=\"stroke:#000000; stroke-width:4; stroke-opacity:1; fill:none\" points=\"\n",
       "  282.66,1143.15 307.501,1143.15 \n",
       "  \"/>\n",
       "<polyline clip-path=\"url(#clip9200)\" style=\"stroke:#000000; stroke-width:4; stroke-opacity:1; fill:none\" points=\"\n",
       "  282.66,835.713 307.501,835.713 \n",
       "  \"/>\n",
       "<polyline clip-path=\"url(#clip9200)\" style=\"stroke:#000000; stroke-width:4; stroke-opacity:1; fill:none\" points=\"\n",
       "  282.66,528.279 307.501,528.279 \n",
       "  \"/>\n",
       "<polyline clip-path=\"url(#clip9200)\" style=\"stroke:#000000; stroke-width:4; stroke-opacity:1; fill:none\" points=\"\n",
       "  282.66,220.844 307.501,220.844 \n",
       "  \"/>\n",
       "<g clip-path=\"url(#clip9200)\">\n",
       "<text style=\"fill:#000000; fill-opacity:1; font-family:Arial,Helvetica Neue,Helvetica,sans-serif; font-size:48px; text-anchor:middle;\" transform=\"rotate(0, 586.094, 1541.47)\" x=\"586.094\" y=\"1541.47\">BFGS</text>\n",
       "</g>\n",
       "<g clip-path=\"url(#clip9200)\">\n",
       "<text style=\"fill:#000000; fill-opacity:1; font-family:Arial,Helvetica Neue,Helvetica,sans-serif; font-size:48px; text-anchor:middle;\" transform=\"rotate(0, 1073.84, 1541.47)\" x=\"1073.84\" y=\"1541.47\">GradientDescent</text>\n",
       "</g>\n",
       "<g clip-path=\"url(#clip9200)\">\n",
       "<text style=\"fill:#000000; fill-opacity:1; font-family:Arial,Helvetica Neue,Helvetica,sans-serif; font-size:48px; text-anchor:middle;\" transform=\"rotate(0, 1561.58, 1541.47)\" x=\"1561.58\" y=\"1541.47\">L-BFGS</text>\n",
       "</g>\n",
       "<g clip-path=\"url(#clip9200)\">\n",
       "<text style=\"fill:#000000; fill-opacity:1; font-family:Arial,Helvetica Neue,Helvetica,sans-serif; font-size:48px; text-anchor:middle;\" transform=\"rotate(0, 2049.32, 1541.47)\" x=\"2049.32\" y=\"1541.47\">Newton</text>\n",
       "</g>\n",
       "<g clip-path=\"url(#clip9200)\">\n",
       "<text style=\"fill:#000000; fill-opacity:1; font-family:Arial,Helvetica Neue,Helvetica,sans-serif; font-size:48px; text-anchor:end;\" transform=\"rotate(0, 258.66, 1468.08)\" x=\"258.66\" y=\"1468.08\">0</text>\n",
       "</g>\n",
       "<g clip-path=\"url(#clip9200)\">\n",
       "<text style=\"fill:#000000; fill-opacity:1; font-family:Arial,Helvetica Neue,Helvetica,sans-serif; font-size:48px; text-anchor:end;\" transform=\"rotate(0, 258.66, 1160.65)\" x=\"258.66\" y=\"1160.65\">2500</text>\n",
       "</g>\n",
       "<g clip-path=\"url(#clip9200)\">\n",
       "<text style=\"fill:#000000; fill-opacity:1; font-family:Arial,Helvetica Neue,Helvetica,sans-serif; font-size:48px; text-anchor:end;\" transform=\"rotate(0, 258.66, 853.213)\" x=\"258.66\" y=\"853.213\">5000</text>\n",
       "</g>\n",
       "<g clip-path=\"url(#clip9200)\">\n",
       "<text style=\"fill:#000000; fill-opacity:1; font-family:Arial,Helvetica Neue,Helvetica,sans-serif; font-size:48px; text-anchor:end;\" transform=\"rotate(0, 258.66, 545.779)\" x=\"258.66\" y=\"545.779\">7500</text>\n",
       "</g>\n",
       "<g clip-path=\"url(#clip9200)\">\n",
       "<text style=\"fill:#000000; fill-opacity:1; font-family:Arial,Helvetica Neue,Helvetica,sans-serif; font-size:48px; text-anchor:end;\" transform=\"rotate(0, 258.66, 238.344)\" x=\"258.66\" y=\"238.344\">10000</text>\n",
       "</g>\n",
       "<g clip-path=\"url(#clip9200)\">\n",
       "<text style=\"fill:#000000; fill-opacity:1; font-family:Arial,Helvetica Neue,Helvetica,sans-serif; font-size:84px; text-anchor:middle;\" transform=\"rotate(0, 1317.71, 73.2)\" x=\"1317.71\" y=\"73.2\">Mean no. iterations required to achieve target error </text>\n",
       "</g>\n",
       "<g clip-path=\"url(#clip9200)\">\n",
       "<text style=\"fill:#000000; fill-opacity:1; font-family:Arial,Helvetica Neue,Helvetica,sans-serif; font-size:84px; text-anchor:middle;\" transform=\"rotate(0, 1317.71, 163.92)\" x=\"1317.71\" y=\"163.92\">for 2- and 4-dimension Rosenbrock function</text>\n",
       "</g>\n",
       "<g clip-path=\"url(#clip9200)\">\n",
       "<text style=\"fill:#000000; fill-opacity:1; font-family:Arial,Helvetica Neue,Helvetica,sans-serif; font-size:66px; text-anchor:middle;\" transform=\"rotate(-90, 89.2861, 835.713)\" x=\"89.2861\" y=\"835.713\">Mean no. iterations</text>\n",
       "</g>\n",
       "<path clip-path=\"url(#clip9202)\" d=\"\n",
       "M390.997 1449.36 L390.997 1450.58 L586.094 1450.58 L586.094 1449.36 L390.997 1449.36 L390.997 1449.36  Z\n",
       "  \" fill=\"#009af9\" fill-rule=\"evenodd\" fill-opacity=\"1\"/>\n",
       "<polyline clip-path=\"url(#clip9202)\" style=\"stroke:#000000; stroke-width:4; stroke-opacity:1; fill:none\" points=\"\n",
       "  390.997,1449.36 390.997,1450.58 586.094,1450.58 586.094,1449.36 390.997,1449.36 \n",
       "  \"/>\n",
       "<path clip-path=\"url(#clip9202)\" d=\"\n",
       "M878.74 810.446 L878.74 1450.58 L1073.84 1450.58 L1073.84 810.446 L878.74 810.446 L878.74 810.446  Z\n",
       "  \" fill=\"#009af9\" fill-rule=\"evenodd\" fill-opacity=\"1\"/>\n",
       "<polyline clip-path=\"url(#clip9202)\" style=\"stroke:#000000; stroke-width:4; stroke-opacity:1; fill:none\" points=\"\n",
       "  878.74,810.446 878.74,1450.58 1073.84,1450.58 1073.84,810.446 878.74,810.446 \n",
       "  \"/>\n",
       "<path clip-path=\"url(#clip9202)\" d=\"\n",
       "M1366.48 1449.31 L1366.48 1450.58 L1561.58 1450.58 L1561.58 1449.31 L1366.48 1449.31 L1366.48 1449.31  Z\n",
       "  \" fill=\"#009af9\" fill-rule=\"evenodd\" fill-opacity=\"1\"/>\n",
       "<polyline clip-path=\"url(#clip9202)\" style=\"stroke:#000000; stroke-width:4; stroke-opacity:1; fill:none\" points=\"\n",
       "  1366.48,1449.31 1366.48,1450.58 1561.58,1450.58 1561.58,1449.31 1366.48,1449.31 \n",
       "  \"/>\n",
       "<path clip-path=\"url(#clip9202)\" d=\"\n",
       "M1854.22 1450.09 L1854.22 1450.58 L2049.32 1450.58 L2049.32 1450.09 L1854.22 1450.09 L1854.22 1450.09  Z\n",
       "  \" fill=\"#009af9\" fill-rule=\"evenodd\" fill-opacity=\"1\"/>\n",
       "<polyline clip-path=\"url(#clip9202)\" style=\"stroke:#000000; stroke-width:4; stroke-opacity:1; fill:none\" points=\"\n",
       "  1854.22,1450.09 1854.22,1450.58 2049.32,1450.58 2049.32,1450.09 1854.22,1450.09 \n",
       "  \"/>\n",
       "<path clip-path=\"url(#clip9202)\" d=\"\n",
       "M586.094 1448.06 L586.094 1450.58 L781.191 1450.58 L781.191 1448.06 L586.094 1448.06 L586.094 1448.06  Z\n",
       "  \" fill=\"#e26f46\" fill-rule=\"evenodd\" fill-opacity=\"1\"/>\n",
       "<polyline clip-path=\"url(#clip9202)\" style=\"stroke:#000000; stroke-width:4; stroke-opacity:1; fill:none\" points=\"\n",
       "  586.094,1448.06 586.094,1450.58 781.191,1450.58 781.191,1448.06 586.094,1448.06 \n",
       "  \"/>\n",
       "<path clip-path=\"url(#clip9202)\" d=\"\n",
       "M1073.84 220.844 L1073.84 1450.58 L1268.93 1450.58 L1268.93 220.844 L1073.84 220.844 L1073.84 220.844  Z\n",
       "  \" fill=\"#e26f46\" fill-rule=\"evenodd\" fill-opacity=\"1\"/>\n",
       "<polyline clip-path=\"url(#clip9202)\" style=\"stroke:#000000; stroke-width:4; stroke-opacity:1; fill:none\" points=\"\n",
       "  1073.84,220.844 1073.84,1450.58 1268.93,1450.58 1268.93,220.844 1073.84,220.844 \n",
       "  \"/>\n",
       "<path clip-path=\"url(#clip9202)\" d=\"\n",
       "M1561.58 1435.31 L1561.58 1450.58 L1756.68 1450.58 L1756.68 1435.31 L1561.58 1435.31 L1561.58 1435.31  Z\n",
       "  \" fill=\"#e26f46\" fill-rule=\"evenodd\" fill-opacity=\"1\"/>\n",
       "<polyline clip-path=\"url(#clip9202)\" style=\"stroke:#000000; stroke-width:4; stroke-opacity:1; fill:none\" points=\"\n",
       "  1561.58,1435.31 1561.58,1450.58 1756.68,1450.58 1756.68,1435.31 1561.58,1435.31 \n",
       "  \"/>\n",
       "<path clip-path=\"url(#clip9202)\" d=\"\n",
       "M2049.32 1350.73 L2049.32 1450.58 L2244.42 1450.58 L2244.42 1350.73 L2049.32 1350.73 L2049.32 1350.73  Z\n",
       "  \" fill=\"#e26f46\" fill-rule=\"evenodd\" fill-opacity=\"1\"/>\n",
       "<polyline clip-path=\"url(#clip9202)\" style=\"stroke:#000000; stroke-width:4; stroke-opacity:1; fill:none\" points=\"\n",
       "  2049.32,1350.73 2049.32,1450.58 2244.42,1450.58 2244.42,1350.73 2049.32,1350.73 \n",
       "  \"/>\n",
       "<path clip-path=\"url(#clip9200)\" d=\"\n",
       "M1757.2 448.912 L2280.76 448.912 L2280.76 267.472 L1757.2 267.472  Z\n",
       "  \" fill=\"#ffffff\" fill-rule=\"evenodd\" fill-opacity=\"1\"/>\n",
       "<polyline clip-path=\"url(#clip9200)\" style=\"stroke:#000000; stroke-width:4; stroke-opacity:1; fill:none\" points=\"\n",
       "  1757.2,448.912 2280.76,448.912 2280.76,267.472 1757.2,267.472 1757.2,448.912 \n",
       "  \"/>\n",
       "<path clip-path=\"url(#clip9200)\" d=\"\n",
       "M1781.2 352.144 L1925.2 352.144 L1925.2 303.76 L1781.2 303.76 L1781.2 352.144  Z\n",
       "  \" fill=\"#009af9\" fill-rule=\"evenodd\" fill-opacity=\"1\"/>\n",
       "<polyline clip-path=\"url(#clip9200)\" style=\"stroke:#000000; stroke-width:4; stroke-opacity:1; fill:none\" points=\"\n",
       "  1781.2,352.144 1925.2,352.144 1925.2,303.76 1781.2,303.76 1781.2,352.144 \n",
       "  \"/>\n",
       "<g clip-path=\"url(#clip9200)\">\n",
       "<text style=\"fill:#000000; fill-opacity:1; font-family:Arial,Helvetica Neue,Helvetica,sans-serif; font-size:48px; text-anchor:start;\" transform=\"rotate(0, 1949.2, 345.452)\" x=\"1949.2\" y=\"345.452\">2 dimensions</text>\n",
       "</g>\n",
       "<path clip-path=\"url(#clip9200)\" d=\"\n",
       "M1781.2 412.624 L1925.2 412.624 L1925.2 364.24 L1781.2 364.24 L1781.2 412.624  Z\n",
       "  \" fill=\"#e26f46\" fill-rule=\"evenodd\" fill-opacity=\"1\"/>\n",
       "<polyline clip-path=\"url(#clip9200)\" style=\"stroke:#000000; stroke-width:4; stroke-opacity:1; fill:none\" points=\"\n",
       "  1781.2,412.624 1925.2,412.624 1925.2,364.24 1781.2,364.24 1781.2,412.624 \n",
       "  \"/>\n",
       "<g clip-path=\"url(#clip9200)\">\n",
       "<text style=\"fill:#000000; fill-opacity:1; font-family:Arial,Helvetica Neue,Helvetica,sans-serif; font-size:48px; text-anchor:start;\" transform=\"rotate(0, 1949.2, 405.932)\" x=\"1949.2\" y=\"405.932\">4 dimensions</text>\n",
       "</g>\n",
       "</svg>\n"
      ]
     },
     "execution_count": 423,
     "metadata": {},
     "output_type": "execute_result"
    }
   ],
   "source": [
    "plt = groupedbar(\n",
    "    repeat([\"GradientDescent\", \"Newton\", \"BFGS\", \"L-BFGS\"], outer=2), \n",
    "    mean_iters,\n",
    "    group=repeat([\"2 dimensions\", \"4 dimensions\"], inner = 4),\n",
    "    ylabel=\"Mean no. iterations\",\n",
    "    title=\"Mean no. iterations required to achieve target error \\nfor 2- and 4-dimension Rosenbrock function\",\n",
    ")\n",
    "savefig(plt, \"plots/iterations.pdf\")\n",
    "plt"
   ]
  },
  {
   "cell_type": "code",
   "execution_count": 424,
   "metadata": {},
   "outputs": [
    {
     "data": {
      "image/svg+xml": [
       "<?xml version=\"1.0\" encoding=\"utf-8\"?>\n",
       "<svg xmlns=\"http://www.w3.org/2000/svg\" xmlns:xlink=\"http://www.w3.org/1999/xlink\" width=\"600\" height=\"400\" viewBox=\"0 0 2400 1600\">\n",
       "<defs>\n",
       "  <clipPath id=\"clip9700\">\n",
       "    <rect x=\"0\" y=\"0\" width=\"2400\" height=\"1600\"/>\n",
       "  </clipPath>\n",
       "</defs>\n",
       "<path clip-path=\"url(#clip9700)\" d=\"\n",
       "M0 1600 L2400 1600 L2400 0 L0 0  Z\n",
       "  \" fill=\"#ffffff\" fill-rule=\"evenodd\" fill-opacity=\"1\"/>\n",
       "<defs>\n",
       "  <clipPath id=\"clip9701\">\n",
       "    <rect x=\"480\" y=\"0\" width=\"1681\" height=\"1600\"/>\n",
       "  </clipPath>\n",
       "</defs>\n",
       "<path clip-path=\"url(#clip9700)\" d=\"\n",
       "M229.135 1487.47 L2352.76 1487.47 L2352.76 183.952 L229.135 183.952  Z\n",
       "  \" fill=\"#ffffff\" fill-rule=\"evenodd\" fill-opacity=\"1\"/>\n",
       "<defs>\n",
       "  <clipPath id=\"clip9702\">\n",
       "    <rect x=\"229\" y=\"183\" width=\"2125\" height=\"1305\"/>\n",
       "  </clipPath>\n",
       "</defs>\n",
       "<polyline clip-path=\"url(#clip9702)\" style=\"stroke:#000000; stroke-width:2; stroke-opacity:0.1; fill:none\" points=\"\n",
       "  759.254,1487.47 759.254,183.952 \n",
       "  \"/>\n",
       "<polyline clip-path=\"url(#clip9702)\" style=\"stroke:#000000; stroke-width:2; stroke-opacity:0.1; fill:none\" points=\"\n",
       "  1822.64,1487.47 1822.64,183.952 \n",
       "  \"/>\n",
       "<polyline clip-path=\"url(#clip9702)\" style=\"stroke:#000000; stroke-width:2; stroke-opacity:0.1; fill:none\" points=\"\n",
       "  229.135,1450.58 2352.76,1450.58 \n",
       "  \"/>\n",
       "<polyline clip-path=\"url(#clip9702)\" style=\"stroke:#000000; stroke-width:2; stroke-opacity:0.1; fill:none\" points=\"\n",
       "  229.135,1252.49 2352.76,1252.49 \n",
       "  \"/>\n",
       "<polyline clip-path=\"url(#clip9702)\" style=\"stroke:#000000; stroke-width:2; stroke-opacity:0.1; fill:none\" points=\"\n",
       "  229.135,1054.4 2352.76,1054.4 \n",
       "  \"/>\n",
       "<polyline clip-path=\"url(#clip9702)\" style=\"stroke:#000000; stroke-width:2; stroke-opacity:0.1; fill:none\" points=\"\n",
       "  229.135,856.315 2352.76,856.315 \n",
       "  \"/>\n",
       "<polyline clip-path=\"url(#clip9702)\" style=\"stroke:#000000; stroke-width:2; stroke-opacity:0.1; fill:none\" points=\"\n",
       "  229.135,658.225 2352.76,658.225 \n",
       "  \"/>\n",
       "<polyline clip-path=\"url(#clip9702)\" style=\"stroke:#000000; stroke-width:2; stroke-opacity:0.1; fill:none\" points=\"\n",
       "  229.135,460.136 2352.76,460.136 \n",
       "  \"/>\n",
       "<polyline clip-path=\"url(#clip9702)\" style=\"stroke:#000000; stroke-width:2; stroke-opacity:0.1; fill:none\" points=\"\n",
       "  229.135,460.136 2352.76,460.136 \n",
       "  \"/>\n",
       "<polyline clip-path=\"url(#clip9700)\" style=\"stroke:#000000; stroke-width:4; stroke-opacity:1; fill:none\" points=\"\n",
       "  229.135,1487.47 2352.76,1487.47 \n",
       "  \"/>\n",
       "<polyline clip-path=\"url(#clip9700)\" style=\"stroke:#000000; stroke-width:4; stroke-opacity:1; fill:none\" points=\"\n",
       "  229.135,1487.47 229.135,183.952 \n",
       "  \"/>\n",
       "<polyline clip-path=\"url(#clip9700)\" style=\"stroke:#000000; stroke-width:4; stroke-opacity:1; fill:none\" points=\"\n",
       "  759.254,1487.47 759.254,1471.83 \n",
       "  \"/>\n",
       "<polyline clip-path=\"url(#clip9700)\" style=\"stroke:#000000; stroke-width:4; stroke-opacity:1; fill:none\" points=\"\n",
       "  1822.64,1487.47 1822.64,1471.83 \n",
       "  \"/>\n",
       "<polyline clip-path=\"url(#clip9700)\" style=\"stroke:#000000; stroke-width:4; stroke-opacity:1; fill:none\" points=\"\n",
       "  229.135,1450.58 254.619,1450.58 \n",
       "  \"/>\n",
       "<polyline clip-path=\"url(#clip9700)\" style=\"stroke:#000000; stroke-width:4; stroke-opacity:1; fill:none\" points=\"\n",
       "  229.135,1252.49 254.619,1252.49 \n",
       "  \"/>\n",
       "<polyline clip-path=\"url(#clip9700)\" style=\"stroke:#000000; stroke-width:4; stroke-opacity:1; fill:none\" points=\"\n",
       "  229.135,1054.4 254.619,1054.4 \n",
       "  \"/>\n",
       "<polyline clip-path=\"url(#clip9700)\" style=\"stroke:#000000; stroke-width:4; stroke-opacity:1; fill:none\" points=\"\n",
       "  229.135,856.315 254.619,856.315 \n",
       "  \"/>\n",
       "<polyline clip-path=\"url(#clip9700)\" style=\"stroke:#000000; stroke-width:4; stroke-opacity:1; fill:none\" points=\"\n",
       "  229.135,658.225 254.619,658.225 \n",
       "  \"/>\n",
       "<polyline clip-path=\"url(#clip9700)\" style=\"stroke:#000000; stroke-width:4; stroke-opacity:1; fill:none\" points=\"\n",
       "  229.135,460.136 254.619,460.136 \n",
       "  \"/>\n",
       "<polyline clip-path=\"url(#clip9700)\" style=\"stroke:#000000; stroke-width:4; stroke-opacity:1; fill:none\" points=\"\n",
       "  229.135,460.136 254.619,460.136 \n",
       "  \"/>\n",
       "<g clip-path=\"url(#clip9700)\">\n",
       "<text style=\"fill:#000000; fill-opacity:1; font-family:Arial,Helvetica Neue,Helvetica,sans-serif; font-size:48px; text-anchor:middle;\" transform=\"rotate(0, 759.254, 1541.47)\" x=\"759.254\" y=\"1541.47\">BFGS</text>\n",
       "</g>\n",
       "<g clip-path=\"url(#clip9700)\">\n",
       "<text style=\"fill:#000000; fill-opacity:1; font-family:Arial,Helvetica Neue,Helvetica,sans-serif; font-size:48px; text-anchor:middle;\" transform=\"rotate(0, 1822.64, 1541.47)\" x=\"1822.64\" y=\"1541.47\">L-BFGS</text>\n",
       "</g>\n",
       "<g clip-path=\"url(#clip9700)\">\n",
       "<text style=\"fill:#000000; fill-opacity:1; font-family:Arial,Helvetica Neue,Helvetica,sans-serif; font-size:48px; text-anchor:end;\" transform=\"rotate(0, 205.135, 1468.08)\" x=\"205.135\" y=\"1468.08\">0</text>\n",
       "</g>\n",
       "<g clip-path=\"url(#clip9700)\">\n",
       "<text style=\"fill:#000000; fill-opacity:1; font-family:Arial,Helvetica Neue,Helvetica,sans-serif; font-size:48px; text-anchor:end;\" transform=\"rotate(0, 205.135, 1269.99)\" x=\"205.135\" y=\"1269.99\">20</text>\n",
       "</g>\n",
       "<g clip-path=\"url(#clip9700)\">\n",
       "<text style=\"fill:#000000; fill-opacity:1; font-family:Arial,Helvetica Neue,Helvetica,sans-serif; font-size:48px; text-anchor:end;\" transform=\"rotate(0, 205.135, 1071.9)\" x=\"205.135\" y=\"1071.9\">40</text>\n",
       "</g>\n",
       "<g clip-path=\"url(#clip9700)\">\n",
       "<text style=\"fill:#000000; fill-opacity:1; font-family:Arial,Helvetica Neue,Helvetica,sans-serif; font-size:48px; text-anchor:end;\" transform=\"rotate(0, 205.135, 873.815)\" x=\"205.135\" y=\"873.815\">60</text>\n",
       "</g>\n",
       "<g clip-path=\"url(#clip9700)\">\n",
       "<text style=\"fill:#000000; fill-opacity:1; font-family:Arial,Helvetica Neue,Helvetica,sans-serif; font-size:48px; text-anchor:end;\" transform=\"rotate(0, 205.135, 675.725)\" x=\"205.135\" y=\"675.725\">80</text>\n",
       "</g>\n",
       "<g clip-path=\"url(#clip9700)\">\n",
       "<text style=\"fill:#000000; fill-opacity:1; font-family:Arial,Helvetica Neue,Helvetica,sans-serif; font-size:48px; text-anchor:end;\" transform=\"rotate(0, 205.135, 477.636)\" x=\"205.135\" y=\"477.636\">100</text>\n",
       "</g>\n",
       "<g clip-path=\"url(#clip9700)\">\n",
       "<text style=\"fill:#000000; fill-opacity:1; font-family:Arial,Helvetica Neue,Helvetica,sans-serif; font-size:48px; text-anchor:end;\" transform=\"rotate(0, 205.135, 477.636)\" x=\"205.135\" y=\"477.636\">100</text>\n",
       "</g>\n",
       "<g clip-path=\"url(#clip9700)\">\n",
       "<text style=\"fill:#000000; fill-opacity:1; font-family:Arial,Helvetica Neue,Helvetica,sans-serif; font-size:84px; text-anchor:middle;\" transform=\"rotate(0, 1290.95, 73.2)\" x=\"1290.95\" y=\"73.2\">Mean no. iterations required to achieve target error </text>\n",
       "</g>\n",
       "<g clip-path=\"url(#clip9700)\">\n",
       "<text style=\"fill:#000000; fill-opacity:1; font-family:Arial,Helvetica Neue,Helvetica,sans-serif; font-size:84px; text-anchor:middle;\" transform=\"rotate(0, 1290.95, 163.92)\" x=\"1290.95\" y=\"163.92\">for 2- and 4-dimension Rosenbrock function</text>\n",
       "</g>\n",
       "<g clip-path=\"url(#clip9700)\">\n",
       "<text style=\"fill:#000000; fill-opacity:1; font-family:Arial,Helvetica Neue,Helvetica,sans-serif; font-size:66px; text-anchor:middle;\" transform=\"rotate(-90, 89.2861, 835.713)\" x=\"89.2861\" y=\"835.713\">Mean no. iterations</text>\n",
       "</g>\n",
       "<path clip-path=\"url(#clip9702)\" d=\"\n",
       "M333.9 1351.74 L333.9 1450.58 L759.254 1450.58 L759.254 1351.74 L333.9 1351.74 L333.9 1351.74  Z\n",
       "  \" fill=\"#009af9\" fill-rule=\"evenodd\" fill-opacity=\"1\"/>\n",
       "<polyline clip-path=\"url(#clip9702)\" style=\"stroke:#000000; stroke-width:4; stroke-opacity:1; fill:none\" points=\"\n",
       "  333.9,1351.74 333.9,1450.58 759.254,1450.58 759.254,1351.74 333.9,1351.74 \n",
       "  \"/>\n",
       "<path clip-path=\"url(#clip9702)\" d=\"\n",
       "M1397.28 1348.17 L1397.28 1450.58 L1822.64 1450.58 L1822.64 1348.17 L1397.28 1348.17 L1397.28 1348.17  Z\n",
       "  \" fill=\"#009af9\" fill-rule=\"evenodd\" fill-opacity=\"1\"/>\n",
       "<polyline clip-path=\"url(#clip9702)\" style=\"stroke:#000000; stroke-width:4; stroke-opacity:1; fill:none\" points=\"\n",
       "  1397.28,1348.17 1397.28,1450.58 1822.64,1450.58 1822.64,1348.17 1397.28,1348.17 \n",
       "  \"/>\n",
       "<path clip-path=\"url(#clip9702)\" d=\"\n",
       "M759.254 1247.14 L759.254 1450.58 L1184.61 1450.58 L1184.61 1247.14 L759.254 1247.14 L759.254 1247.14  Z\n",
       "  \" fill=\"#e26f46\" fill-rule=\"evenodd\" fill-opacity=\"1\"/>\n",
       "<polyline clip-path=\"url(#clip9702)\" style=\"stroke:#000000; stroke-width:4; stroke-opacity:1; fill:none\" points=\"\n",
       "  759.254,1247.14 759.254,1450.58 1184.61,1450.58 1184.61,1247.14 759.254,1247.14 \n",
       "  \"/>\n",
       "<path clip-path=\"url(#clip9702)\" d=\"\n",
       "M1822.64 220.844 L1822.64 1450.58 L2247.99 1450.58 L2247.99 220.844 L1822.64 220.844 L1822.64 220.844  Z\n",
       "  \" fill=\"#e26f46\" fill-rule=\"evenodd\" fill-opacity=\"1\"/>\n",
       "<polyline clip-path=\"url(#clip9702)\" style=\"stroke:#000000; stroke-width:4; stroke-opacity:1; fill:none\" points=\"\n",
       "  1822.64,220.844 1822.64,1450.58 2247.99,1450.58 2247.99,220.844 1822.64,220.844 \n",
       "  \"/>\n",
       "<path clip-path=\"url(#clip9700)\" d=\"\n",
       "M1757.2 448.912 L2280.76 448.912 L2280.76 267.472 L1757.2 267.472  Z\n",
       "  \" fill=\"#ffffff\" fill-rule=\"evenodd\" fill-opacity=\"1\"/>\n",
       "<polyline clip-path=\"url(#clip9700)\" style=\"stroke:#000000; stroke-width:4; stroke-opacity:1; fill:none\" points=\"\n",
       "  1757.2,448.912 2280.76,448.912 2280.76,267.472 1757.2,267.472 1757.2,448.912 \n",
       "  \"/>\n",
       "<path clip-path=\"url(#clip9700)\" d=\"\n",
       "M1781.2 352.144 L1925.2 352.144 L1925.2 303.76 L1781.2 303.76 L1781.2 352.144  Z\n",
       "  \" fill=\"#009af9\" fill-rule=\"evenodd\" fill-opacity=\"1\"/>\n",
       "<polyline clip-path=\"url(#clip9700)\" style=\"stroke:#000000; stroke-width:4; stroke-opacity:1; fill:none\" points=\"\n",
       "  1781.2,352.144 1925.2,352.144 1925.2,303.76 1781.2,303.76 1781.2,352.144 \n",
       "  \"/>\n",
       "<g clip-path=\"url(#clip9700)\">\n",
       "<text style=\"fill:#000000; fill-opacity:1; font-family:Arial,Helvetica Neue,Helvetica,sans-serif; font-size:48px; text-anchor:start;\" transform=\"rotate(0, 1949.2, 345.452)\" x=\"1949.2\" y=\"345.452\">2 dimensions</text>\n",
       "</g>\n",
       "<path clip-path=\"url(#clip9700)\" d=\"\n",
       "M1781.2 412.624 L1925.2 412.624 L1925.2 364.24 L1781.2 364.24 L1781.2 412.624  Z\n",
       "  \" fill=\"#e26f46\" fill-rule=\"evenodd\" fill-opacity=\"1\"/>\n",
       "<polyline clip-path=\"url(#clip9700)\" style=\"stroke:#000000; stroke-width:4; stroke-opacity:1; fill:none\" points=\"\n",
       "  1781.2,412.624 1925.2,412.624 1925.2,364.24 1781.2,364.24 1781.2,412.624 \n",
       "  \"/>\n",
       "<g clip-path=\"url(#clip9700)\">\n",
       "<text style=\"fill:#000000; fill-opacity:1; font-family:Arial,Helvetica Neue,Helvetica,sans-serif; font-size:48px; text-anchor:start;\" transform=\"rotate(0, 1949.2, 405.932)\" x=\"1949.2\" y=\"405.932\">4 dimensions</text>\n",
       "</g>\n",
       "</svg>\n"
      ]
     },
     "execution_count": 424,
     "metadata": {},
     "output_type": "execute_result"
    }
   ],
   "source": [
    "plt = groupedbar(\n",
    "    repeat([\"BFGS\", \"L-BFGS\"], outer=2), \n",
    "    [mean_iters[i] for i in [3, 4, 7, 8]],\n",
    "    group=repeat([\"2 dimensions\", \"4 dimensions\"], inner = 2),\n",
    "    ylabel=\"Mean no. iterations\",\n",
    "    title=\"Mean no. iterations required to achieve target error \\nfor 2- and 4-dimension Rosenbrock function\",\n",
    ")\n",
    "savefig(plt, \"plots/iterations_bfgs.pdf\")\n",
    "plt"
   ]
  },
  {
   "cell_type": "code",
   "execution_count": 425,
   "metadata": {},
   "outputs": [
    {
     "data": {
      "image/svg+xml": [
       "<?xml version=\"1.0\" encoding=\"utf-8\"?>\n",
       "<svg xmlns=\"http://www.w3.org/2000/svg\" xmlns:xlink=\"http://www.w3.org/1999/xlink\" width=\"600\" height=\"400\" viewBox=\"0 0 2400 1600\">\n",
       "<defs>\n",
       "  <clipPath id=\"clip0200\">\n",
       "    <rect x=\"0\" y=\"0\" width=\"2400\" height=\"1600\"/>\n",
       "  </clipPath>\n",
       "</defs>\n",
       "<path clip-path=\"url(#clip0200)\" d=\"\n",
       "M0 1600 L2400 1600 L2400 0 L0 0  Z\n",
       "  \" fill=\"#ffffff\" fill-rule=\"evenodd\" fill-opacity=\"1\"/>\n",
       "<defs>\n",
       "  <clipPath id=\"clip0201\">\n",
       "    <rect x=\"480\" y=\"0\" width=\"1681\" height=\"1600\"/>\n",
       "  </clipPath>\n",
       "</defs>\n",
       "<path clip-path=\"url(#clip0200)\" d=\"\n",
       "M269.279 1487.47 L2352.76 1487.47 L2352.76 183.952 L269.279 183.952  Z\n",
       "  \" fill=\"#ffffff\" fill-rule=\"evenodd\" fill-opacity=\"1\"/>\n",
       "<defs>\n",
       "  <clipPath id=\"clip0202\">\n",
       "    <rect x=\"269\" y=\"183\" width=\"2084\" height=\"1305\"/>\n",
       "  </clipPath>\n",
       "</defs>\n",
       "<polyline clip-path=\"url(#clip0202)\" style=\"stroke:#000000; stroke-width:2; stroke-opacity:0.1; fill:none\" points=\"\n",
       "  574.675,1487.47 574.675,183.952 \n",
       "  \"/>\n",
       "<polyline clip-path=\"url(#clip0202)\" style=\"stroke:#000000; stroke-width:2; stroke-opacity:0.1; fill:none\" points=\"\n",
       "  1065.57,1487.47 1065.57,183.952 \n",
       "  \"/>\n",
       "<polyline clip-path=\"url(#clip0202)\" style=\"stroke:#000000; stroke-width:2; stroke-opacity:0.1; fill:none\" points=\"\n",
       "  1556.46,1487.47 1556.46,183.952 \n",
       "  \"/>\n",
       "<polyline clip-path=\"url(#clip0202)\" style=\"stroke:#000000; stroke-width:2; stroke-opacity:0.1; fill:none\" points=\"\n",
       "  2047.36,1487.47 2047.36,183.952 \n",
       "  \"/>\n",
       "<polyline clip-path=\"url(#clip0202)\" style=\"stroke:#000000; stroke-width:2; stroke-opacity:0.1; fill:none\" points=\"\n",
       "  269.279,1450.58 2352.76,1450.58 \n",
       "  \"/>\n",
       "<polyline clip-path=\"url(#clip0202)\" style=\"stroke:#000000; stroke-width:2; stroke-opacity:0.1; fill:none\" points=\"\n",
       "  269.279,1251.6 2352.76,1251.6 \n",
       "  \"/>\n",
       "<polyline clip-path=\"url(#clip0202)\" style=\"stroke:#000000; stroke-width:2; stroke-opacity:0.1; fill:none\" points=\"\n",
       "  269.279,1052.62 2352.76,1052.62 \n",
       "  \"/>\n",
       "<polyline clip-path=\"url(#clip0202)\" style=\"stroke:#000000; stroke-width:2; stroke-opacity:0.1; fill:none\" points=\"\n",
       "  269.279,853.633 2352.76,853.633 \n",
       "  \"/>\n",
       "<polyline clip-path=\"url(#clip0202)\" style=\"stroke:#000000; stroke-width:2; stroke-opacity:0.1; fill:none\" points=\"\n",
       "  269.279,654.65 2352.76,654.65 \n",
       "  \"/>\n",
       "<polyline clip-path=\"url(#clip0202)\" style=\"stroke:#000000; stroke-width:2; stroke-opacity:0.1; fill:none\" points=\"\n",
       "  269.279,455.667 2352.76,455.667 \n",
       "  \"/>\n",
       "<polyline clip-path=\"url(#clip0202)\" style=\"stroke:#000000; stroke-width:2; stroke-opacity:0.1; fill:none\" points=\"\n",
       "  269.279,455.667 2352.76,455.667 \n",
       "  \"/>\n",
       "<polyline clip-path=\"url(#clip0200)\" style=\"stroke:#000000; stroke-width:4; stroke-opacity:1; fill:none\" points=\"\n",
       "  269.279,1487.47 2352.76,1487.47 \n",
       "  \"/>\n",
       "<polyline clip-path=\"url(#clip0200)\" style=\"stroke:#000000; stroke-width:4; stroke-opacity:1; fill:none\" points=\"\n",
       "  269.279,1487.47 269.279,183.952 \n",
       "  \"/>\n",
       "<polyline clip-path=\"url(#clip0200)\" style=\"stroke:#000000; stroke-width:4; stroke-opacity:1; fill:none\" points=\"\n",
       "  574.675,1487.47 574.675,1471.83 \n",
       "  \"/>\n",
       "<polyline clip-path=\"url(#clip0200)\" style=\"stroke:#000000; stroke-width:4; stroke-opacity:1; fill:none\" points=\"\n",
       "  1065.57,1487.47 1065.57,1471.83 \n",
       "  \"/>\n",
       "<polyline clip-path=\"url(#clip0200)\" style=\"stroke:#000000; stroke-width:4; stroke-opacity:1; fill:none\" points=\"\n",
       "  1556.46,1487.47 1556.46,1471.83 \n",
       "  \"/>\n",
       "<polyline clip-path=\"url(#clip0200)\" style=\"stroke:#000000; stroke-width:4; stroke-opacity:1; fill:none\" points=\"\n",
       "  2047.36,1487.47 2047.36,1471.83 \n",
       "  \"/>\n",
       "<polyline clip-path=\"url(#clip0200)\" style=\"stroke:#000000; stroke-width:4; stroke-opacity:1; fill:none\" points=\"\n",
       "  269.279,1450.58 294.28,1450.58 \n",
       "  \"/>\n",
       "<polyline clip-path=\"url(#clip0200)\" style=\"stroke:#000000; stroke-width:4; stroke-opacity:1; fill:none\" points=\"\n",
       "  269.279,1251.6 294.28,1251.6 \n",
       "  \"/>\n",
       "<polyline clip-path=\"url(#clip0200)\" style=\"stroke:#000000; stroke-width:4; stroke-opacity:1; fill:none\" points=\"\n",
       "  269.279,1052.62 294.28,1052.62 \n",
       "  \"/>\n",
       "<polyline clip-path=\"url(#clip0200)\" style=\"stroke:#000000; stroke-width:4; stroke-opacity:1; fill:none\" points=\"\n",
       "  269.279,853.633 294.28,853.633 \n",
       "  \"/>\n",
       "<polyline clip-path=\"url(#clip0200)\" style=\"stroke:#000000; stroke-width:4; stroke-opacity:1; fill:none\" points=\"\n",
       "  269.279,654.65 294.28,654.65 \n",
       "  \"/>\n",
       "<polyline clip-path=\"url(#clip0200)\" style=\"stroke:#000000; stroke-width:4; stroke-opacity:1; fill:none\" points=\"\n",
       "  269.279,455.667 294.28,455.667 \n",
       "  \"/>\n",
       "<polyline clip-path=\"url(#clip0200)\" style=\"stroke:#000000; stroke-width:4; stroke-opacity:1; fill:none\" points=\"\n",
       "  269.279,455.667 294.28,455.667 \n",
       "  \"/>\n",
       "<g clip-path=\"url(#clip0200)\">\n",
       "<text style=\"fill:#000000; fill-opacity:1; font-family:Arial,Helvetica Neue,Helvetica,sans-serif; font-size:48px; text-anchor:middle;\" transform=\"rotate(0, 574.675, 1541.47)\" x=\"574.675\" y=\"1541.47\">BFGS</text>\n",
       "</g>\n",
       "<g clip-path=\"url(#clip0200)\">\n",
       "<text style=\"fill:#000000; fill-opacity:1; font-family:Arial,Helvetica Neue,Helvetica,sans-serif; font-size:48px; text-anchor:middle;\" transform=\"rotate(0, 1065.57, 1541.47)\" x=\"1065.57\" y=\"1541.47\">GradientDescent</text>\n",
       "</g>\n",
       "<g clip-path=\"url(#clip0200)\">\n",
       "<text style=\"fill:#000000; fill-opacity:1; font-family:Arial,Helvetica Neue,Helvetica,sans-serif; font-size:48px; text-anchor:middle;\" transform=\"rotate(0, 1556.46, 1541.47)\" x=\"1556.46\" y=\"1541.47\">L-BFGS</text>\n",
       "</g>\n",
       "<g clip-path=\"url(#clip0200)\">\n",
       "<text style=\"fill:#000000; fill-opacity:1; font-family:Arial,Helvetica Neue,Helvetica,sans-serif; font-size:48px; text-anchor:middle;\" transform=\"rotate(0, 2047.36, 1541.47)\" x=\"2047.36\" y=\"1541.47\">Newton</text>\n",
       "</g>\n",
       "<g clip-path=\"url(#clip0200)\">\n",
       "<text style=\"fill:#000000; fill-opacity:1; font-family:Arial,Helvetica Neue,Helvetica,sans-serif; font-size:48px; text-anchor:end;\" transform=\"rotate(0, 245.279, 1468.08)\" x=\"245.279\" y=\"1468.08\">0.000</text>\n",
       "</g>\n",
       "<g clip-path=\"url(#clip0200)\">\n",
       "<text style=\"fill:#000000; fill-opacity:1; font-family:Arial,Helvetica Neue,Helvetica,sans-serif; font-size:48px; text-anchor:end;\" transform=\"rotate(0, 245.279, 1269.1)\" x=\"245.279\" y=\"1269.1\">0.002</text>\n",
       "</g>\n",
       "<g clip-path=\"url(#clip0200)\">\n",
       "<text style=\"fill:#000000; fill-opacity:1; font-family:Arial,Helvetica Neue,Helvetica,sans-serif; font-size:48px; text-anchor:end;\" transform=\"rotate(0, 245.279, 1070.12)\" x=\"245.279\" y=\"1070.12\">0.004</text>\n",
       "</g>\n",
       "<g clip-path=\"url(#clip0200)\">\n",
       "<text style=\"fill:#000000; fill-opacity:1; font-family:Arial,Helvetica Neue,Helvetica,sans-serif; font-size:48px; text-anchor:end;\" transform=\"rotate(0, 245.279, 871.133)\" x=\"245.279\" y=\"871.133\">0.006</text>\n",
       "</g>\n",
       "<g clip-path=\"url(#clip0200)\">\n",
       "<text style=\"fill:#000000; fill-opacity:1; font-family:Arial,Helvetica Neue,Helvetica,sans-serif; font-size:48px; text-anchor:end;\" transform=\"rotate(0, 245.279, 672.15)\" x=\"245.279\" y=\"672.15\">0.008</text>\n",
       "</g>\n",
       "<g clip-path=\"url(#clip0200)\">\n",
       "<text style=\"fill:#000000; fill-opacity:1; font-family:Arial,Helvetica Neue,Helvetica,sans-serif; font-size:48px; text-anchor:end;\" transform=\"rotate(0, 245.279, 473.167)\" x=\"245.279\" y=\"473.167\">0.010</text>\n",
       "</g>\n",
       "<g clip-path=\"url(#clip0200)\">\n",
       "<text style=\"fill:#000000; fill-opacity:1; font-family:Arial,Helvetica Neue,Helvetica,sans-serif; font-size:48px; text-anchor:end;\" transform=\"rotate(0, 245.279, 473.167)\" x=\"245.279\" y=\"473.167\">0.010</text>\n",
       "</g>\n",
       "<g clip-path=\"url(#clip0200)\">\n",
       "<text style=\"fill:#000000; fill-opacity:1; font-family:Arial,Helvetica Neue,Helvetica,sans-serif; font-size:84px; text-anchor:middle;\" transform=\"rotate(0, 1311.02, 73.2)\" x=\"1311.02\" y=\"73.2\">Mean exec time required to achieve target error </text>\n",
       "</g>\n",
       "<g clip-path=\"url(#clip0200)\">\n",
       "<text style=\"fill:#000000; fill-opacity:1; font-family:Arial,Helvetica Neue,Helvetica,sans-serif; font-size:84px; text-anchor:middle;\" transform=\"rotate(0, 1311.02, 163.92)\" x=\"1311.02\" y=\"163.92\">for 2- and 4-dimension Rosenbrock function</text>\n",
       "</g>\n",
       "<g clip-path=\"url(#clip0200)\">\n",
       "<text style=\"fill:#000000; fill-opacity:1; font-family:Arial,Helvetica Neue,Helvetica,sans-serif; font-size:66px; text-anchor:middle;\" transform=\"rotate(-90, 89.2861, 835.713)\" x=\"89.2861\" y=\"835.713\">Mean exec time [s]</text>\n",
       "</g>\n",
       "<path clip-path=\"url(#clip0202)\" d=\"\n",
       "M378.316 1348.14 L378.316 1450.58 L574.675 1450.58 L574.675 1348.14 L378.316 1348.14 L378.316 1348.14  Z\n",
       "  \" fill=\"#009af9\" fill-rule=\"evenodd\" fill-opacity=\"1\"/>\n",
       "<polyline clip-path=\"url(#clip0202)\" style=\"stroke:#000000; stroke-width:4; stroke-opacity:1; fill:none\" points=\"\n",
       "  378.316,1348.14 378.316,1450.58 574.675,1450.58 574.675,1348.14 378.316,1348.14 \n",
       "  \"/>\n",
       "<path clip-path=\"url(#clip0202)\" d=\"\n",
       "M869.212 781.561 L869.212 1450.58 L1065.57 1450.58 L1065.57 781.561 L869.212 781.561 L869.212 781.561  Z\n",
       "  \" fill=\"#009af9\" fill-rule=\"evenodd\" fill-opacity=\"1\"/>\n",
       "<polyline clip-path=\"url(#clip0202)\" style=\"stroke:#000000; stroke-width:4; stroke-opacity:1; fill:none\" points=\"\n",
       "  869.212,781.561 869.212,1450.58 1065.57,1450.58 1065.57,781.561 869.212,781.561 \n",
       "  \"/>\n",
       "<path clip-path=\"url(#clip0202)\" d=\"\n",
       "M1360.11 1287.73 L1360.11 1450.58 L1556.46 1450.58 L1556.46 1287.73 L1360.11 1287.73 L1360.11 1287.73  Z\n",
       "  \" fill=\"#009af9\" fill-rule=\"evenodd\" fill-opacity=\"1\"/>\n",
       "<polyline clip-path=\"url(#clip0202)\" style=\"stroke:#000000; stroke-width:4; stroke-opacity:1; fill:none\" points=\"\n",
       "  1360.11,1287.73 1360.11,1450.58 1556.46,1450.58 1556.46,1287.73 1360.11,1287.73 \n",
       "  \"/>\n",
       "<path clip-path=\"url(#clip0202)\" d=\"\n",
       "M1851 1437.43 L1851 1450.58 L2047.36 1450.58 L2047.36 1437.43 L1851 1437.43 L1851 1437.43  Z\n",
       "  \" fill=\"#009af9\" fill-rule=\"evenodd\" fill-opacity=\"1\"/>\n",
       "<polyline clip-path=\"url(#clip0202)\" style=\"stroke:#000000; stroke-width:4; stroke-opacity:1; fill:none\" points=\"\n",
       "  1851,1437.43 1851,1450.58 2047.36,1450.58 2047.36,1437.43 1851,1437.43 \n",
       "  \"/>\n",
       "<path clip-path=\"url(#clip0202)\" d=\"\n",
       "M574.675 1374.95 L574.675 1450.58 L771.033 1450.58 L771.033 1374.95 L574.675 1374.95 L574.675 1374.95  Z\n",
       "  \" fill=\"#e26f46\" fill-rule=\"evenodd\" fill-opacity=\"1\"/>\n",
       "<polyline clip-path=\"url(#clip0202)\" style=\"stroke:#000000; stroke-width:4; stroke-opacity:1; fill:none\" points=\"\n",
       "  574.675,1374.95 574.675,1450.58 771.033,1450.58 771.033,1374.95 574.675,1374.95 \n",
       "  \"/>\n",
       "<path clip-path=\"url(#clip0202)\" d=\"\n",
       "M1065.57 220.844 L1065.57 1450.58 L1261.93 1450.58 L1261.93 220.844 L1065.57 220.844 L1065.57 220.844  Z\n",
       "  \" fill=\"#e26f46\" fill-rule=\"evenodd\" fill-opacity=\"1\"/>\n",
       "<polyline clip-path=\"url(#clip0202)\" style=\"stroke:#000000; stroke-width:4; stroke-opacity:1; fill:none\" points=\"\n",
       "  1065.57,220.844 1065.57,1450.58 1261.93,1450.58 1261.93,220.844 1065.57,220.844 \n",
       "  \"/>\n",
       "<path clip-path=\"url(#clip0202)\" d=\"\n",
       "M1556.46 1082.97 L1556.46 1450.58 L1752.82 1450.58 L1752.82 1082.97 L1556.46 1082.97 L1556.46 1082.97  Z\n",
       "  \" fill=\"#e26f46\" fill-rule=\"evenodd\" fill-opacity=\"1\"/>\n",
       "<polyline clip-path=\"url(#clip0202)\" style=\"stroke:#000000; stroke-width:4; stroke-opacity:1; fill:none\" points=\"\n",
       "  1556.46,1082.97 1556.46,1450.58 1752.82,1450.58 1752.82,1082.97 1556.46,1082.97 \n",
       "  \"/>\n",
       "<path clip-path=\"url(#clip0202)\" d=\"\n",
       "M2047.36 1062.3 L2047.36 1450.58 L2243.72 1450.58 L2243.72 1062.3 L2047.36 1062.3 L2047.36 1062.3  Z\n",
       "  \" fill=\"#e26f46\" fill-rule=\"evenodd\" fill-opacity=\"1\"/>\n",
       "<polyline clip-path=\"url(#clip0202)\" style=\"stroke:#000000; stroke-width:4; stroke-opacity:1; fill:none\" points=\"\n",
       "  2047.36,1062.3 2047.36,1450.58 2243.72,1450.58 2243.72,1062.3 2047.36,1062.3 \n",
       "  \"/>\n",
       "<path clip-path=\"url(#clip0200)\" d=\"\n",
       "M1757.2 448.912 L2280.76 448.912 L2280.76 267.472 L1757.2 267.472  Z\n",
       "  \" fill=\"#ffffff\" fill-rule=\"evenodd\" fill-opacity=\"1\"/>\n",
       "<polyline clip-path=\"url(#clip0200)\" style=\"stroke:#000000; stroke-width:4; stroke-opacity:1; fill:none\" points=\"\n",
       "  1757.2,448.912 2280.76,448.912 2280.76,267.472 1757.2,267.472 1757.2,448.912 \n",
       "  \"/>\n",
       "<path clip-path=\"url(#clip0200)\" d=\"\n",
       "M1781.2 352.144 L1925.2 352.144 L1925.2 303.76 L1781.2 303.76 L1781.2 352.144  Z\n",
       "  \" fill=\"#009af9\" fill-rule=\"evenodd\" fill-opacity=\"1\"/>\n",
       "<polyline clip-path=\"url(#clip0200)\" style=\"stroke:#000000; stroke-width:4; stroke-opacity:1; fill:none\" points=\"\n",
       "  1781.2,352.144 1925.2,352.144 1925.2,303.76 1781.2,303.76 1781.2,352.144 \n",
       "  \"/>\n",
       "<g clip-path=\"url(#clip0200)\">\n",
       "<text style=\"fill:#000000; fill-opacity:1; font-family:Arial,Helvetica Neue,Helvetica,sans-serif; font-size:48px; text-anchor:start;\" transform=\"rotate(0, 1949.2, 345.452)\" x=\"1949.2\" y=\"345.452\">2 dimensions</text>\n",
       "</g>\n",
       "<path clip-path=\"url(#clip0200)\" d=\"\n",
       "M1781.2 412.624 L1925.2 412.624 L1925.2 364.24 L1781.2 364.24 L1781.2 412.624  Z\n",
       "  \" fill=\"#e26f46\" fill-rule=\"evenodd\" fill-opacity=\"1\"/>\n",
       "<polyline clip-path=\"url(#clip0200)\" style=\"stroke:#000000; stroke-width:4; stroke-opacity:1; fill:none\" points=\"\n",
       "  1781.2,412.624 1925.2,412.624 1925.2,364.24 1781.2,364.24 1781.2,412.624 \n",
       "  \"/>\n",
       "<g clip-path=\"url(#clip0200)\">\n",
       "<text style=\"fill:#000000; fill-opacity:1; font-family:Arial,Helvetica Neue,Helvetica,sans-serif; font-size:48px; text-anchor:start;\" transform=\"rotate(0, 1949.2, 405.932)\" x=\"1949.2\" y=\"405.932\">4 dimensions</text>\n",
       "</g>\n",
       "</svg>\n"
      ]
     },
     "execution_count": 425,
     "metadata": {},
     "output_type": "execute_result"
    }
   ],
   "source": [
    "plt = groupedbar(\n",
    "    repeat([\"GradientDescent\", \"Newton\", \"BFGS\", \"L-BFGS\"], outer=2), \n",
    "    mean_exec_time,\n",
    "    group=repeat([\"2 dimensions\", \"4 dimensions\"], inner = 4),\n",
    "    ylabel=\"Mean exec time [s]\",\n",
    "    title=\"Mean exec time required to achieve target error \\nfor 2- and 4-dimension Rosenbrock function\",\n",
    ")\n",
    "savefig(plt, \"plots/time.pdf\")\n",
    "plt"
   ]
  },
  {
   "cell_type": "code",
   "execution_count": 426,
   "metadata": {},
   "outputs": [
    {
     "data": {
      "image/svg+xml": [
       "<?xml version=\"1.0\" encoding=\"utf-8\"?>\n",
       "<svg xmlns=\"http://www.w3.org/2000/svg\" xmlns:xlink=\"http://www.w3.org/1999/xlink\" width=\"600\" height=\"400\" viewBox=\"0 0 2400 1600\">\n",
       "<defs>\n",
       "  <clipPath id=\"clip0700\">\n",
       "    <rect x=\"0\" y=\"0\" width=\"2400\" height=\"1600\"/>\n",
       "  </clipPath>\n",
       "</defs>\n",
       "<path clip-path=\"url(#clip0700)\" d=\"\n",
       "M0 1600 L2400 1600 L2400 0 L0 0  Z\n",
       "  \" fill=\"#ffffff\" fill-rule=\"evenodd\" fill-opacity=\"1\"/>\n",
       "<defs>\n",
       "  <clipPath id=\"clip0701\">\n",
       "    <rect x=\"480\" y=\"0\" width=\"1681\" height=\"1600\"/>\n",
       "  </clipPath>\n",
       "</defs>\n",
       "<path clip-path=\"url(#clip0700)\" d=\"\n",
       "M389.035 1487.47 L2352.76 1487.47 L2352.76 183.952 L389.035 183.952  Z\n",
       "  \" fill=\"#ffffff\" fill-rule=\"evenodd\" fill-opacity=\"1\"/>\n",
       "<defs>\n",
       "  <clipPath id=\"clip0702\">\n",
       "    <rect x=\"389\" y=\"183\" width=\"1965\" height=\"1305\"/>\n",
       "  </clipPath>\n",
       "</defs>\n",
       "<polyline clip-path=\"url(#clip0702)\" style=\"stroke:#000000; stroke-width:2; stroke-opacity:0.1; fill:none\" points=\"\n",
       "  676.877,1487.47 676.877,183.952 \n",
       "  \"/>\n",
       "<polyline clip-path=\"url(#clip0702)\" style=\"stroke:#000000; stroke-width:2; stroke-opacity:0.1; fill:none\" points=\"\n",
       "  1139.56,1487.47 1139.56,183.952 \n",
       "  \"/>\n",
       "<polyline clip-path=\"url(#clip0702)\" style=\"stroke:#000000; stroke-width:2; stroke-opacity:0.1; fill:none\" points=\"\n",
       "  1602.24,1487.47 1602.24,183.952 \n",
       "  \"/>\n",
       "<polyline clip-path=\"url(#clip0702)\" style=\"stroke:#000000; stroke-width:2; stroke-opacity:0.1; fill:none\" points=\"\n",
       "  2064.91,1487.47 2064.91,183.952 \n",
       "  \"/>\n",
       "<polyline clip-path=\"url(#clip0702)\" style=\"stroke:#000000; stroke-width:2; stroke-opacity:0.1; fill:none\" points=\"\n",
       "  389.035,1450.58 2352.76,1450.58 \n",
       "  \"/>\n",
       "<polyline clip-path=\"url(#clip0702)\" style=\"stroke:#000000; stroke-width:2; stroke-opacity:0.1; fill:none\" points=\"\n",
       "  389.035,1185.37 2352.76,1185.37 \n",
       "  \"/>\n",
       "<polyline clip-path=\"url(#clip0702)\" style=\"stroke:#000000; stroke-width:2; stroke-opacity:0.1; fill:none\" points=\"\n",
       "  389.035,920.162 2352.76,920.162 \n",
       "  \"/>\n",
       "<polyline clip-path=\"url(#clip0702)\" style=\"stroke:#000000; stroke-width:2; stroke-opacity:0.1; fill:none\" points=\"\n",
       "  389.035,654.951 2352.76,654.951 \n",
       "  \"/>\n",
       "<polyline clip-path=\"url(#clip0702)\" style=\"stroke:#000000; stroke-width:2; stroke-opacity:0.1; fill:none\" points=\"\n",
       "  389.035,389.741 2352.76,389.741 \n",
       "  \"/>\n",
       "<polyline clip-path=\"url(#clip0700)\" style=\"stroke:#000000; stroke-width:4; stroke-opacity:1; fill:none\" points=\"\n",
       "  389.035,1487.47 2352.76,1487.47 \n",
       "  \"/>\n",
       "<polyline clip-path=\"url(#clip0700)\" style=\"stroke:#000000; stroke-width:4; stroke-opacity:1; fill:none\" points=\"\n",
       "  389.035,1487.47 389.035,183.952 \n",
       "  \"/>\n",
       "<polyline clip-path=\"url(#clip0700)\" style=\"stroke:#000000; stroke-width:4; stroke-opacity:1; fill:none\" points=\"\n",
       "  676.877,1487.47 676.877,1471.83 \n",
       "  \"/>\n",
       "<polyline clip-path=\"url(#clip0700)\" style=\"stroke:#000000; stroke-width:4; stroke-opacity:1; fill:none\" points=\"\n",
       "  1139.56,1487.47 1139.56,1471.83 \n",
       "  \"/>\n",
       "<polyline clip-path=\"url(#clip0700)\" style=\"stroke:#000000; stroke-width:4; stroke-opacity:1; fill:none\" points=\"\n",
       "  1602.24,1487.47 1602.24,1471.83 \n",
       "  \"/>\n",
       "<polyline clip-path=\"url(#clip0700)\" style=\"stroke:#000000; stroke-width:4; stroke-opacity:1; fill:none\" points=\"\n",
       "  2064.91,1487.47 2064.91,1471.83 \n",
       "  \"/>\n",
       "<polyline clip-path=\"url(#clip0700)\" style=\"stroke:#000000; stroke-width:4; stroke-opacity:1; fill:none\" points=\"\n",
       "  389.035,1450.58 412.6,1450.58 \n",
       "  \"/>\n",
       "<polyline clip-path=\"url(#clip0700)\" style=\"stroke:#000000; stroke-width:4; stroke-opacity:1; fill:none\" points=\"\n",
       "  389.035,1185.37 412.6,1185.37 \n",
       "  \"/>\n",
       "<polyline clip-path=\"url(#clip0700)\" style=\"stroke:#000000; stroke-width:4; stroke-opacity:1; fill:none\" points=\"\n",
       "  389.035,920.162 412.6,920.162 \n",
       "  \"/>\n",
       "<polyline clip-path=\"url(#clip0700)\" style=\"stroke:#000000; stroke-width:4; stroke-opacity:1; fill:none\" points=\"\n",
       "  389.035,654.951 412.6,654.951 \n",
       "  \"/>\n",
       "<polyline clip-path=\"url(#clip0700)\" style=\"stroke:#000000; stroke-width:4; stroke-opacity:1; fill:none\" points=\"\n",
       "  389.035,389.741 412.6,389.741 \n",
       "  \"/>\n",
       "<g clip-path=\"url(#clip0700)\">\n",
       "<text style=\"fill:#000000; fill-opacity:1; font-family:Arial,Helvetica Neue,Helvetica,sans-serif; font-size:48px; text-anchor:middle;\" transform=\"rotate(0, 676.877, 1541.47)\" x=\"676.877\" y=\"1541.47\">BFGS</text>\n",
       "</g>\n",
       "<g clip-path=\"url(#clip0700)\">\n",
       "<text style=\"fill:#000000; fill-opacity:1; font-family:Arial,Helvetica Neue,Helvetica,sans-serif; font-size:48px; text-anchor:middle;\" transform=\"rotate(0, 1139.56, 1541.47)\" x=\"1139.56\" y=\"1541.47\">GradientDescent</text>\n",
       "</g>\n",
       "<g clip-path=\"url(#clip0700)\">\n",
       "<text style=\"fill:#000000; fill-opacity:1; font-family:Arial,Helvetica Neue,Helvetica,sans-serif; font-size:48px; text-anchor:middle;\" transform=\"rotate(0, 1602.24, 1541.47)\" x=\"1602.24\" y=\"1541.47\">L-BFGS</text>\n",
       "</g>\n",
       "<g clip-path=\"url(#clip0700)\">\n",
       "<text style=\"fill:#000000; fill-opacity:1; font-family:Arial,Helvetica Neue,Helvetica,sans-serif; font-size:48px; text-anchor:middle;\" transform=\"rotate(0, 2064.91, 1541.47)\" x=\"2064.91\" y=\"1541.47\">Newton</text>\n",
       "</g>\n",
       "<g clip-path=\"url(#clip0700)\">\n",
       "<text style=\"fill:#000000; fill-opacity:1; font-family:Arial,Helvetica Neue,Helvetica,sans-serif; font-size:48px; text-anchor:end;\" transform=\"rotate(0, 365.035, 1468.08)\" x=\"365.035\" y=\"1468.08\">0</text>\n",
       "</g>\n",
       "<g clip-path=\"url(#clip0700)\">\n",
       "<text style=\"fill:#000000; fill-opacity:1; font-family:Arial,Helvetica Neue,Helvetica,sans-serif; font-size:48px; text-anchor:start;\" transform=\"rotate(0, 167.988, 1209.1)\" x=\"167.988\" y=\"1209.1\">2.50×10</text>\n",
       "</g>\n",
       "<g clip-path=\"url(#clip0700)\">\n",
       "<text style=\"fill:#000000; fill-opacity:1; font-family:Arial,Helvetica Neue,Helvetica,sans-serif; font-size:38px; text-anchor:start;\" transform=\"rotate(0, 343.291, 1181.69)\" x=\"343.291\" y=\"1181.69\">6</text>\n",
       "</g>\n",
       "<g clip-path=\"url(#clip0700)\">\n",
       "<text style=\"fill:#000000; fill-opacity:1; font-family:Arial,Helvetica Neue,Helvetica,sans-serif; font-size:48px; text-anchor:start;\" transform=\"rotate(0, 167.988, 943.889)\" x=\"167.988\" y=\"943.889\">5.00×10</text>\n",
       "</g>\n",
       "<g clip-path=\"url(#clip0700)\">\n",
       "<text style=\"fill:#000000; fill-opacity:1; font-family:Arial,Helvetica Neue,Helvetica,sans-serif; font-size:38px; text-anchor:start;\" transform=\"rotate(0, 343.291, 916.479)\" x=\"343.291\" y=\"916.479\">6</text>\n",
       "</g>\n",
       "<g clip-path=\"url(#clip0700)\">\n",
       "<text style=\"fill:#000000; fill-opacity:1; font-family:Arial,Helvetica Neue,Helvetica,sans-serif; font-size:48px; text-anchor:start;\" transform=\"rotate(0, 167.988, 678.679)\" x=\"167.988\" y=\"678.679\">7.50×10</text>\n",
       "</g>\n",
       "<g clip-path=\"url(#clip0700)\">\n",
       "<text style=\"fill:#000000; fill-opacity:1; font-family:Arial,Helvetica Neue,Helvetica,sans-serif; font-size:38px; text-anchor:start;\" transform=\"rotate(0, 343.291, 651.268)\" x=\"343.291\" y=\"651.268\">6</text>\n",
       "</g>\n",
       "<g clip-path=\"url(#clip0700)\">\n",
       "<text style=\"fill:#000000; fill-opacity:1; font-family:Arial,Helvetica Neue,Helvetica,sans-serif; font-size:48px; text-anchor:start;\" transform=\"rotate(0, 167.988, 413.468)\" x=\"167.988\" y=\"413.468\">1.00×10</text>\n",
       "</g>\n",
       "<g clip-path=\"url(#clip0700)\">\n",
       "<text style=\"fill:#000000; fill-opacity:1; font-family:Arial,Helvetica Neue,Helvetica,sans-serif; font-size:38px; text-anchor:start;\" transform=\"rotate(0, 343.291, 386.058)\" x=\"343.291\" y=\"386.058\">7</text>\n",
       "</g>\n",
       "<g clip-path=\"url(#clip0700)\">\n",
       "<text style=\"fill:#000000; fill-opacity:1; font-family:Arial,Helvetica Neue,Helvetica,sans-serif; font-size:84px; text-anchor:middle;\" transform=\"rotate(0, 1370.9, 73.2)\" x=\"1370.9\" y=\"73.2\">Mean allocated memory required to achieve target</text>\n",
       "</g>\n",
       "<g clip-path=\"url(#clip0700)\">\n",
       "<text style=\"fill:#000000; fill-opacity:1; font-family:Arial,Helvetica Neue,Helvetica,sans-serif; font-size:84px; text-anchor:middle;\" transform=\"rotate(0, 1370.9, 163.92)\" x=\"1370.9\" y=\"163.92\">error for 2- and 4-dimension Rosenbrock function</text>\n",
       "</g>\n",
       "<g clip-path=\"url(#clip0700)\">\n",
       "<text style=\"fill:#000000; fill-opacity:1; font-family:Arial,Helvetica Neue,Helvetica,sans-serif; font-size:66px; text-anchor:middle;\" transform=\"rotate(-90, 89.2861, 835.713)\" x=\"89.2861\" y=\"835.713\">Mean allocated memory [B]</text>\n",
       "</g>\n",
       "<path clip-path=\"url(#clip0702)\" d=\"\n",
       "M491.806 1398.27 L491.806 1450.58 L676.877 1450.58 L676.877 1398.27 L491.806 1398.27 L491.806 1398.27  Z\n",
       "  \" fill=\"#009af9\" fill-rule=\"evenodd\" fill-opacity=\"1\"/>\n",
       "<polyline clip-path=\"url(#clip0702)\" style=\"stroke:#000000; stroke-width:4; stroke-opacity:1; fill:none\" points=\"\n",
       "  491.806,1398.27 491.806,1450.58 676.877,1450.58 676.877,1398.27 491.806,1398.27 \n",
       "  \"/>\n",
       "<path clip-path=\"url(#clip0702)\" d=\"\n",
       "M954.485 970.912 L954.485 1450.58 L1139.56 1450.58 L1139.56 970.912 L954.485 970.912 L954.485 970.912  Z\n",
       "  \" fill=\"#009af9\" fill-rule=\"evenodd\" fill-opacity=\"1\"/>\n",
       "<polyline clip-path=\"url(#clip0702)\" style=\"stroke:#000000; stroke-width:4; stroke-opacity:1; fill:none\" points=\"\n",
       "  954.485,970.912 954.485,1450.58 1139.56,1450.58 1139.56,970.912 954.485,970.912 \n",
       "  \"/>\n",
       "<path clip-path=\"url(#clip0702)\" d=\"\n",
       "M1417.16 1395.66 L1417.16 1450.58 L1602.24 1450.58 L1602.24 1395.66 L1417.16 1395.66 L1417.16 1395.66  Z\n",
       "  \" fill=\"#009af9\" fill-rule=\"evenodd\" fill-opacity=\"1\"/>\n",
       "<polyline clip-path=\"url(#clip0702)\" style=\"stroke:#000000; stroke-width:4; stroke-opacity:1; fill:none\" points=\"\n",
       "  1417.16,1395.66 1417.16,1450.58 1602.24,1450.58 1602.24,1395.66 1417.16,1395.66 \n",
       "  \"/>\n",
       "<path clip-path=\"url(#clip0702)\" d=\"\n",
       "M1879.84 1423.59 L1879.84 1450.58 L2064.91 1450.58 L2064.91 1423.59 L1879.84 1423.59 L1879.84 1423.59  Z\n",
       "  \" fill=\"#009af9\" fill-rule=\"evenodd\" fill-opacity=\"1\"/>\n",
       "<polyline clip-path=\"url(#clip0702)\" style=\"stroke:#000000; stroke-width:4; stroke-opacity:1; fill:none\" points=\"\n",
       "  1879.84,1423.59 1879.84,1450.58 2064.91,1450.58 2064.91,1423.59 1879.84,1423.59 \n",
       "  \"/>\n",
       "<path clip-path=\"url(#clip0702)\" d=\"\n",
       "M676.877 1353.77 L676.877 1450.58 L861.949 1450.58 L861.949 1353.77 L676.877 1353.77 L676.877 1353.77  Z\n",
       "  \" fill=\"#e26f46\" fill-rule=\"evenodd\" fill-opacity=\"1\"/>\n",
       "<polyline clip-path=\"url(#clip0702)\" style=\"stroke:#000000; stroke-width:4; stroke-opacity:1; fill:none\" points=\"\n",
       "  676.877,1353.77 676.877,1450.58 861.949,1450.58 861.949,1353.77 676.877,1353.77 \n",
       "  \"/>\n",
       "<path clip-path=\"url(#clip0702)\" d=\"\n",
       "M1139.56 220.844 L1139.56 1450.58 L1324.63 1450.58 L1324.63 220.844 L1139.56 220.844 L1139.56 220.844  Z\n",
       "  \" fill=\"#e26f46\" fill-rule=\"evenodd\" fill-opacity=\"1\"/>\n",
       "<polyline clip-path=\"url(#clip0702)\" style=\"stroke:#000000; stroke-width:4; stroke-opacity:1; fill:none\" points=\"\n",
       "  1139.56,220.844 1139.56,1450.58 1324.63,1450.58 1324.63,220.844 1139.56,220.844 \n",
       "  \"/>\n",
       "<path clip-path=\"url(#clip0702)\" d=\"\n",
       "M1602.24 1062.67 L1602.24 1450.58 L1787.31 1450.58 L1787.31 1062.67 L1602.24 1062.67 L1602.24 1062.67  Z\n",
       "  \" fill=\"#e26f46\" fill-rule=\"evenodd\" fill-opacity=\"1\"/>\n",
       "<polyline clip-path=\"url(#clip0702)\" style=\"stroke:#000000; stroke-width:4; stroke-opacity:1; fill:none\" points=\"\n",
       "  1602.24,1062.67 1602.24,1450.58 1787.31,1450.58 1787.31,1062.67 1602.24,1062.67 \n",
       "  \"/>\n",
       "<path clip-path=\"url(#clip0702)\" d=\"\n",
       "M2064.91 816.903 L2064.91 1450.58 L2249.99 1450.58 L2249.99 816.903 L2064.91 816.903 L2064.91 816.903  Z\n",
       "  \" fill=\"#e26f46\" fill-rule=\"evenodd\" fill-opacity=\"1\"/>\n",
       "<polyline clip-path=\"url(#clip0702)\" style=\"stroke:#000000; stroke-width:4; stroke-opacity:1; fill:none\" points=\"\n",
       "  2064.91,816.903 2064.91,1450.58 2249.99,1450.58 2249.99,816.903 2064.91,816.903 \n",
       "  \"/>\n",
       "<path clip-path=\"url(#clip0700)\" d=\"\n",
       "M1757.2 448.912 L2280.76 448.912 L2280.76 267.472 L1757.2 267.472  Z\n",
       "  \" fill=\"#ffffff\" fill-rule=\"evenodd\" fill-opacity=\"1\"/>\n",
       "<polyline clip-path=\"url(#clip0700)\" style=\"stroke:#000000; stroke-width:4; stroke-opacity:1; fill:none\" points=\"\n",
       "  1757.2,448.912 2280.76,448.912 2280.76,267.472 1757.2,267.472 1757.2,448.912 \n",
       "  \"/>\n",
       "<path clip-path=\"url(#clip0700)\" d=\"\n",
       "M1781.2 352.144 L1925.2 352.144 L1925.2 303.76 L1781.2 303.76 L1781.2 352.144  Z\n",
       "  \" fill=\"#009af9\" fill-rule=\"evenodd\" fill-opacity=\"1\"/>\n",
       "<polyline clip-path=\"url(#clip0700)\" style=\"stroke:#000000; stroke-width:4; stroke-opacity:1; fill:none\" points=\"\n",
       "  1781.2,352.144 1925.2,352.144 1925.2,303.76 1781.2,303.76 1781.2,352.144 \n",
       "  \"/>\n",
       "<g clip-path=\"url(#clip0700)\">\n",
       "<text style=\"fill:#000000; fill-opacity:1; font-family:Arial,Helvetica Neue,Helvetica,sans-serif; font-size:48px; text-anchor:start;\" transform=\"rotate(0, 1949.2, 345.452)\" x=\"1949.2\" y=\"345.452\">2 dimensions</text>\n",
       "</g>\n",
       "<path clip-path=\"url(#clip0700)\" d=\"\n",
       "M1781.2 412.624 L1925.2 412.624 L1925.2 364.24 L1781.2 364.24 L1781.2 412.624  Z\n",
       "  \" fill=\"#e26f46\" fill-rule=\"evenodd\" fill-opacity=\"1\"/>\n",
       "<polyline clip-path=\"url(#clip0700)\" style=\"stroke:#000000; stroke-width:4; stroke-opacity:1; fill:none\" points=\"\n",
       "  1781.2,412.624 1925.2,412.624 1925.2,364.24 1781.2,364.24 1781.2,412.624 \n",
       "  \"/>\n",
       "<g clip-path=\"url(#clip0700)\">\n",
       "<text style=\"fill:#000000; fill-opacity:1; font-family:Arial,Helvetica Neue,Helvetica,sans-serif; font-size:48px; text-anchor:start;\" transform=\"rotate(0, 1949.2, 405.932)\" x=\"1949.2\" y=\"405.932\">4 dimensions</text>\n",
       "</g>\n",
       "</svg>\n"
      ]
     },
     "execution_count": 426,
     "metadata": {},
     "output_type": "execute_result"
    }
   ],
   "source": [
    "plt = groupedbar(\n",
    "    repeat([\"GradientDescent\", \"Newton\", \"BFGS\", \"L-BFGS\"], outer=2), \n",
    "    mean_alloc_bytes,\n",
    "    group=repeat([\"2 dimensions\", \"4 dimensions\"], inner = 4),\n",
    "    ylabel=\"Mean allocated memory [B]\",\n",
    "    title=\"Mean allocated memory required to achieve target\\nerror for 2- and 4-dimension Rosenbrock function\",\n",
    ")\n",
    "savefig(plt, \"plots/memory.pdf\")\n",
    "plt"
   ]
  },
  {
   "cell_type": "markdown",
   "metadata": {},
   "source": [
    "# Visualization of Rosenbrock value change for 2 dimens"
   ]
  },
  {
   "cell_type": "code",
   "execution_count": null,
   "metadata": {},
   "outputs": [],
   "source": []
  },
  {
   "cell_type": "markdown",
   "metadata": {},
   "source": [
    "# Visualization of Rosenbrock value change for 4 dimens"
   ]
  },
  {
   "cell_type": "code",
   "execution_count": null,
   "metadata": {},
   "outputs": [],
   "source": []
  }
 ],
 "metadata": {
  "kernelspec": {
   "display_name": "Julia 1.5.3",
   "language": "julia",
   "name": "julia-1.5"
  },
  "language_info": {
   "file_extension": ".jl",
   "mimetype": "application/julia",
   "name": "julia",
   "version": "1.5.3"
  }
 },
 "nbformat": 4,
 "nbformat_minor": 4
}
